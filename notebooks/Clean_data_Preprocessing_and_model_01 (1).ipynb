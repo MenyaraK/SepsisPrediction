{
  "cells": [
    {
      "cell_type": "code",
      "execution_count": 31,
      "metadata": {
        "id": "fF9FHEPcixhP"
      },
      "outputs": [],
      "source": [
        "#Importing the datset we have New dataset\n",
        "import pandas as pd\n",
        "import matplotlib.pyplot as plt\n",
        "import seaborn as sns\n",
        "import numpy as np\n",
        "\n",
        "filenames = [\n",
        "    \"../data/pct_data_2018.csv\",\n",
        "    \"../data/pct_data_2019.csv\",\n",
        "    \"../data/pct_data_2020.csv\",\n",
        "    \"../data/pct_data_2021.csv\",\n",
        "    \"../data/pct_data_2022.csv\",\n",
        "    \"../data/pct_data_2023.csv\",\n",
        "    \"../data/pct_data_2024.csv\"\n",
        "]\n",
        "\n",
        "# Read each file into a DF and store them in a list\n",
        "dataframes = [pd.read_csv (f, sep=';') for f in filenames]\n",
        "\n",
        "# Concatenate all dfs into a single df\n",
        "raw_data= pd.concat(dataframes, ignore_index=True)\n",
        "raw_dataset = raw_data"
      ]
    },
    {
      "cell_type": "code",
      "execution_count": 32,
      "metadata": {
        "colab": {
          "base_uri": "https://localhost:8080/"
        },
        "id": "QTTvMQq7mOEr",
        "outputId": "3b467358-0294-459e-fded-0b3f8efd42fc"
      },
      "outputs": [
        {
          "data": {
            "text/plain": [
              "(109897, 33)"
            ]
          },
          "execution_count": 32,
          "metadata": {},
          "output_type": "execute_result"
        }
      ],
      "source": [
        "raw_dataset.shape"
      ]
    },
    {
      "cell_type": "markdown",
      "metadata": {
        "id": "AGCQ4oRtIvtS"
      },
      "source": [
        "Eliminate I category"
      ]
    },
    {
      "cell_type": "code",
      "execution_count": 33,
      "metadata": {
        "colab": {
          "base_uri": "https://localhost:8080/"
        },
        "id": "LbT0tUwlGPp9",
        "outputId": "d9b3c205-35dc-476d-e0d9-f7983a021ffc"
      },
      "outputs": [
        {
          "data": {
            "text/plain": [
              "(109897, 34)"
            ]
          },
          "execution_count": 33,
          "metadata": {},
          "output_type": "execute_result"
        }
      ],
      "source": [
        "# Define a function that categorizes sepsis based on PCT values\n",
        "def categorize_sepsis(pct_value):\n",
        "    if pct_value > 2:\n",
        "        return 'P'  # Yes, sepsis likely\n",
        "    elif pct_value >= 0.1:\n",
        "        return 'I'  # Maybe, intermediate or gray area\n",
        "    else:\n",
        "        return 'N'  # No, sepsis unlikely\n",
        "\n",
        "# Apply this function to the 'PCT' column to create a new categorical column\n",
        "raw_dataset['sepsis_cat'] = raw_dataset['PCT'].apply(categorize_sepsis)\n",
        "\n",
        "# Insert the 'sepsis_cat' column before the 'PCT' column\n",
        "pct_index = raw_dataset.columns.get_loc('PCT')  # Find the index of 'PCT' column\n",
        "raw_dataset.insert(pct_index, 'sepsis_cat', raw_dataset.pop('sepsis_cat'))\n",
        "raw_dataset.shape"
      ]
    },
    {
      "cell_type": "code",
      "execution_count": 34,
      "metadata": {
        "colab": {
          "base_uri": "https://localhost:8080/"
        },
        "id": "u_-EvwdXGuHY",
        "outputId": "f332ee26-496d-45e1-d43e-65cc95a0f4ae"
      },
      "outputs": [
        {
          "name": "stdout",
          "output_type": "stream",
          "text": [
            "(69923, 34)\n",
            "(39974, 34)\n"
          ]
        }
      ],
      "source": [
        "# Data subsets for different sepsis categories\n",
        "pct_data_sepsis_yes = raw_dataset[raw_dataset['sepsis_cat'] == 'P']\n",
        "pct_data_sepsis_no = raw_dataset[raw_dataset['sepsis_cat'] == 'N']\n",
        "pct_data_sepsis_I = raw_dataset[raw_dataset['sepsis_cat'] == 'I']\n",
        "combined_data = pd.concat([pct_data_sepsis_yes, pct_data_sepsis_no], axis=0)\n",
        "print(combined_data.shape)\n",
        "print(pct_data_sepsis_I.shape)"
      ]
    },
    {
      "cell_type": "code",
      "execution_count": 35,
      "metadata": {
        "colab": {
          "base_uri": "https://localhost:8080/"
        },
        "id": "tKXbyFYvG0Dr",
        "outputId": "938124b5-295e-4bd2-fb2a-d7937b5de9c9"
      },
      "outputs": [
        {
          "data": {
            "text/plain": [
              "(69923, 34)"
            ]
          },
          "execution_count": 35,
          "metadata": {},
          "output_type": "execute_result"
        }
      ],
      "source": [
        "raw_dataset = combined_data\n",
        "raw_dataset.shape"
      ]
    },
    {
      "cell_type": "markdown",
      "metadata": {
        "id": "0BPNUJ2HIyry"
      },
      "source": [
        "Correction of sex labels"
      ]
    },
    {
      "cell_type": "code",
      "execution_count": 36,
      "metadata": {
        "colab": {
          "base_uri": "https://localhost:8080/"
        },
        "id": "a-aWdzOeIx_X",
        "outputId": "a4e69831-c270-47d0-f316-87ff9a8a00af"
      },
      "outputs": [
        {
          "name": "stdout",
          "output_type": "stream",
          "text": [
            "(68727, 34)\n",
            "(39010, 34)\n"
          ]
        }
      ],
      "source": [
        "# Filter the DataFrame to keep only rows where 'sex' is either 'M' or 'W'\n",
        "raw_dataset = raw_dataset[raw_dataset['sex'].isin(['m', 'f'])]\n",
        "pct_data_sepsis_I = pct_data_sepsis_I[pct_data_sepsis_I['sex'].isin(['m', 'f'])]\n",
        "print(raw_dataset.shape)\n",
        "print(pct_data_sepsis_I.shape)"
      ]
    },
    {
      "cell_type": "code",
      "execution_count": 37,
      "metadata": {
        "colab": {
          "base_uri": "https://localhost:8080/"
        },
        "id": "Z33ZUbTFG421",
        "outputId": "ea7b6422-22cd-41a3-e433-b8a409493498"
      },
      "outputs": [
        {
          "name": "stdout",
          "output_type": "stream",
          "text": [
            "(68727, 34)\n",
            "(39010, 34)\n"
          ]
        },
        {
          "name": "stderr",
          "output_type": "stream",
          "text": [
            "C:\\Users\\menia\\AppData\\Local\\Temp\\ipykernel_20896\\1315486616.py:2: SettingWithCopyWarning: \n",
            "A value is trying to be set on a copy of a slice from a DataFrame.\n",
            "Try using .loc[row_indexer,col_indexer] = value instead\n",
            "\n",
            "See the caveats in the documentation: https://pandas.pydata.org/pandas-docs/stable/user_guide/indexing.html#returning-a-view-versus-a-copy\n",
            "  raw_dataset['sex'] = raw_dataset['sex'].replace({'f': 'W', 'm': 'M'})\n"
          ]
        }
      ],
      "source": [
        "# Transform sex column: 'f' to 'W' and 'm' to 'M'\n",
        "raw_dataset['sex'] = raw_dataset['sex'].replace({'f': 'W', 'm': 'M'})\n",
        "pct_data_sepsis_I['sex'] = pct_data_sepsis_I['sex'].replace({'f': 'W', 'm': 'M'})\n",
        "print(raw_dataset.shape)\n",
        "print(pct_data_sepsis_I.shape)"
      ]
    },
    {
      "cell_type": "code",
      "execution_count": 38,
      "metadata": {
        "colab": {
          "base_uri": "https://localhost:8080/"
        },
        "id": "AMqfkMH7lQQD",
        "outputId": "91f933f5-766e-469d-b6f5-dcc66b10bcbe"
      },
      "outputs": [
        {
          "name": "stdout",
          "output_type": "stream",
          "text": [
            "(68727, 30)\n",
            "(39010, 30)\n"
          ]
        },
        {
          "name": "stderr",
          "output_type": "stream",
          "text": [
            "C:\\Users\\menia\\AppData\\Local\\Temp\\ipykernel_20896\\1842070725.py:2: SettingWithCopyWarning: \n",
            "A value is trying to be set on a copy of a slice from a DataFrame\n",
            "\n",
            "See the caveats in the documentation: https://pandas.pydata.org/pandas-docs/stable/user_guide/indexing.html#returning-a-view-versus-a-copy\n",
            "  raw_dataset.drop(columns=columns_to_drop, axis=1, inplace=True)\n"
          ]
        }
      ],
      "source": [
        "columns_to_drop = ['%h-ERY', 'NOR-Ge', 'XNRBC', 'Unnamed: 0']\n",
        "raw_dataset.drop(columns=columns_to_drop, axis=1, inplace=True)\n",
        "pct_data_sepsis_I.drop(columns=columns_to_drop, axis=1, inplace=True)\n",
        "print(raw_dataset.shape)\n",
        "print(pct_data_sepsis_I.shape)"
      ]
    },
    {
      "cell_type": "code",
      "execution_count": 39,
      "metadata": {
        "colab": {
          "base_uri": "https://localhost:8080/"
        },
        "id": "PI_N2fttmtYj",
        "outputId": "1c7584e5-7dee-424c-f348-eb9e1a920990"
      },
      "outputs": [
        {
          "name": "stdout",
          "output_type": "stream",
          "text": [
            "(68727, 30)\n",
            "(39010, 30)\n"
          ]
        },
        {
          "name": "stderr",
          "output_type": "stream",
          "text": [
            "C:\\Users\\menia\\AppData\\Local\\Temp\\ipykernel_20896\\1461858049.py:2: SettingWithCopyWarning: \n",
            "A value is trying to be set on a copy of a slice from a DataFrame.\n",
            "Try using .loc[row_indexer,col_indexer] = value instead\n",
            "\n",
            "See the caveats in the documentation: https://pandas.pydata.org/pandas-docs/stable/user_guide/indexing.html#returning-a-view-versus-a-copy\n",
            "  raw_dataset['age'] = current_year - raw_dataset['year_of_birth']\n",
            "C:\\Users\\menia\\AppData\\Local\\Temp\\ipykernel_20896\\1461858049.py:4: SettingWithCopyWarning: \n",
            "A value is trying to be set on a copy of a slice from a DataFrame\n",
            "\n",
            "See the caveats in the documentation: https://pandas.pydata.org/pandas-docs/stable/user_guide/indexing.html#returning-a-view-versus-a-copy\n",
            "  raw_dataset.drop('year_of_birth', axis=1, inplace=True)\n"
          ]
        }
      ],
      "source": [
        "current_year = 2024\n",
        "raw_dataset['age'] = current_year - raw_dataset['year_of_birth']\n",
        "# Drop the 'year_of_birth' column without reassigning clean_data\n",
        "raw_dataset.drop('year_of_birth', axis=1, inplace=True)\n",
        "\n",
        "pct_data_sepsis_I['age'] = current_year - pct_data_sepsis_I['year_of_birth']\n",
        "# Drop the 'year_of_birth' column without reassigning clean_data\n",
        "pct_data_sepsis_I.drop('year_of_birth', axis=1, inplace=True)\n",
        "\n",
        "print(raw_dataset.shape)\n",
        "print(pct_data_sepsis_I.shape)"
      ]
    },
    {
      "cell_type": "code",
      "execution_count": 40,
      "metadata": {
        "colab": {
          "base_uri": "https://localhost:8080/"
        },
        "id": "qjLGviaCnEQj",
        "outputId": "c7b84084-b8c6-4d6c-924a-78b8b16109eb"
      },
      "outputs": [
        {
          "name": "stdout",
          "output_type": "stream",
          "text": [
            "Count of null or negative values in 'age' column: 2\n",
            "Count of null or negative values in 'age' column: 1\n"
          ]
        }
      ],
      "source": [
        "count_null_or_negative = (raw_dataset['age'].isna() | (raw_dataset['age'] <= 0)).sum()\n",
        "count_null_or_negativeI = (pct_data_sepsis_I['age'].isna() | (pct_data_sepsis_I['age'] <= 0)).sum()\n",
        "\n",
        "print(\"Count of null or negative values in 'age' column:\", count_null_or_negative)\n",
        "print(\"Count of null or negative values in 'age' column:\", count_null_or_negativeI)"
      ]
    },
    {
      "cell_type": "code",
      "execution_count": 41,
      "metadata": {
        "id": "DP5Z3FR6Ma26"
      },
      "outputs": [],
      "source": [
        "filtered_df = raw_dataset"
      ]
    },
    {
      "cell_type": "code",
      "execution_count": 42,
      "metadata": {
        "id": "P1Ip1TM-bN8q"
      },
      "outputs": [],
      "source": [
        "# Remove rows where the 'age' column has null values\n",
        "filtered_df = filtered_df.dropna(subset=['age'])\n",
        "pct_data_sepsis_I = pct_data_sepsis_I.dropna(subset=['age'])"
      ]
    },
    {
      "cell_type": "code",
      "execution_count": 43,
      "metadata": {
        "colab": {
          "base_uri": "https://localhost:8080/"
        },
        "id": "7YspLDAjm-cL",
        "outputId": "f02cd93d-3683-4101-d0e7-fa773fd6c598"
      },
      "outputs": [
        {
          "name": "stdout",
          "output_type": "stream",
          "text": [
            "order_number    0\n",
            "sex             0\n",
            "sepsis_cat      0\n",
            "PCT             0\n",
            "IL6             0\n",
            "HK              0\n",
            "LYMABS          0\n",
            "THROMB          0\n",
            "MONOZY          0\n",
            "HB              0\n",
            "GRANAB          0\n",
            "MPV             0\n",
            "RDW-SD          0\n",
            "MicroE          0\n",
            "MCHC            0\n",
            "LYMPHO          0\n",
            "IG%             0\n",
            "IG#             0\n",
            "ERY             0\n",
            "EOSABS          0\n",
            "MakroE          0\n",
            "MCH             0\n",
            "GRANUL          0\n",
            "EOSINO          0\n",
            "LEUKO           0\n",
            "BASOAB          0\n",
            "MCV             0\n",
            "MONABS          0\n",
            "BASOPH          0\n",
            "age             0\n",
            "dtype: int64\n",
            "order_number    0\n",
            "sex             0\n",
            "sepsis_cat      0\n",
            "PCT             0\n",
            "IL6             0\n",
            "HK              0\n",
            "LYMABS          0\n",
            "THROMB          0\n",
            "MONOZY          0\n",
            "HB              0\n",
            "GRANAB          0\n",
            "MPV             0\n",
            "RDW-SD          0\n",
            "MicroE          0\n",
            "MCHC            0\n",
            "LYMPHO          0\n",
            "IG%             0\n",
            "IG#             0\n",
            "ERY             0\n",
            "EOSABS          0\n",
            "MakroE          0\n",
            "MCH             0\n",
            "GRANUL          0\n",
            "EOSINO          0\n",
            "LEUKO           0\n",
            "BASOAB          0\n",
            "MCV             0\n",
            "MONABS          0\n",
            "BASOPH          0\n",
            "age             0\n",
            "dtype: int64\n"
          ]
        }
      ],
      "source": [
        "# Calculate the count of null values in each column\n",
        "null_counts = filtered_df.isnull().sum()\n",
        "null_countsI = pct_data_sepsis_I.isnull().sum()\n",
        "\n",
        "# Print the count of null values for each column\n",
        "print(null_counts)\n",
        "print(null_countsI)\n"
      ]
    },
    {
      "cell_type": "code",
      "execution_count": 44,
      "metadata": {
        "colab": {
          "base_uri": "https://localhost:8080/"
        },
        "id": "ruPs1uM5bUpw",
        "outputId": "f067a9e1-7ee6-43fe-a6b1-22cc5fb5555f"
      },
      "outputs": [
        {
          "name": "stdout",
          "output_type": "stream",
          "text": [
            "(68725, 30)\n",
            "(39009, 30)\n"
          ]
        }
      ],
      "source": [
        "print(filtered_df.shape)\n",
        "print(pct_data_sepsis_I.shape)"
      ]
    },
    {
      "cell_type": "code",
      "execution_count": 45,
      "metadata": {
        "colab": {
          "base_uri": "https://localhost:8080/"
        },
        "id": "IOhVMIFCnz2-",
        "outputId": "9a379fcf-cd2b-49e0-d626-8be343a7bb37"
      },
      "outputs": [
        {
          "name": "stdout",
          "output_type": "stream",
          "text": [
            "order_number        0\n",
            "sex                 0\n",
            "sepsis_cat          0\n",
            "PCT              1645\n",
            "IL6             52524\n",
            "HK               1712\n",
            "LYMABS          19363\n",
            "THROMB           1722\n",
            "MONOZY          19379\n",
            "HB               1712\n",
            "GRANAB          19370\n",
            "MPV             29770\n",
            "RDW-SD          29187\n",
            "MicroE           2256\n",
            "MCHC             1713\n",
            "LYMPHO          19364\n",
            "IG%             18411\n",
            "IG#             47663\n",
            "ERY              1712\n",
            "EOSABS          24072\n",
            "MakroE           2246\n",
            "MCH              1712\n",
            "GRANUL          19370\n",
            "EOSINO          24277\n",
            "LEUKO            1735\n",
            "BASOAB          20301\n",
            "MCV              1712\n",
            "MONABS          19380\n",
            "BASOPH          20337\n",
            "age                 0\n",
            "dtype: int64\n",
            "order_number        0\n",
            "sex                 0\n",
            "sepsis_cat          0\n",
            "PCT                 0\n",
            "IL6             22946\n",
            "HK                944\n",
            "LYMABS          16612\n",
            "THROMB            947\n",
            "MONOZY          16641\n",
            "HB                944\n",
            "GRANAB          16632\n",
            "MPV             17789\n",
            "RDW-SD          17263\n",
            "MicroE           1365\n",
            "MCHC              944\n",
            "LYMPHO          16612\n",
            "IG%             15827\n",
            "IG#             22853\n",
            "ERY               944\n",
            "EOSABS          21052\n",
            "MakroE           1362\n",
            "MCH               944\n",
            "GRANUL          16632\n",
            "EOSINO          21311\n",
            "LEUKO             947\n",
            "BASOAB          17609\n",
            "MCV               944\n",
            "MONABS          16642\n",
            "BASOPH          17669\n",
            "age                 0\n",
            "dtype: int64\n"
          ]
        }
      ],
      "source": [
        "#Counting minus 1 on all columns:\n",
        "counts_minus_one = (filtered_df == -1).sum()\n",
        "\n",
        "# Display the count for each column\n",
        "print(counts_minus_one)\n",
        "\n",
        "#Counting minus 1 on all columns:\n",
        "counts_minus_oneI = (pct_data_sepsis_I == -1).sum()\n",
        "\n",
        "# Display the count for each column\n",
        "print(counts_minus_oneI)"
      ]
    },
    {
      "cell_type": "code",
      "execution_count": 46,
      "metadata": {
        "colab": {
          "base_uri": "https://localhost:8080/"
        },
        "id": "awit2XFhnDZn",
        "outputId": "b59dfcfb-2099-40d2-cd32-8426ef6adfcd"
      },
      "outputs": [
        {
          "name": "stdout",
          "output_type": "stream",
          "text": [
            "order_number     0.000000\n",
            "sex              0.000000\n",
            "sepsis_cat       0.000000\n",
            "PCT              2.393598\n",
            "IL6             76.426337\n",
            "HK               2.491088\n",
            "LYMABS          28.174609\n",
            "THROMB           2.505638\n",
            "MONOZY          28.197890\n",
            "HB               2.491088\n",
            "GRANAB          28.184794\n",
            "MPV             43.317570\n",
            "RDW-SD          42.469262\n",
            "MicroE           3.282648\n",
            "MCHC             2.492543\n",
            "LYMPHO          28.176064\n",
            "IG%             26.789378\n",
            "IG#             69.353219\n",
            "ERY              2.491088\n",
            "EOSABS          35.026555\n",
            "MakroE           3.268097\n",
            "MCH              2.491088\n",
            "GRANUL          28.184794\n",
            "EOSINO          35.324845\n",
            "LEUKO            2.524554\n",
            "BASOAB          29.539469\n",
            "MCV              2.491088\n",
            "MONABS          28.199345\n",
            "BASOPH          29.591852\n",
            "age              0.000000\n",
            "dtype: float64\n",
            "order_number     0.000000\n",
            "sex              0.000000\n",
            "sepsis_cat       0.000000\n",
            "PCT              0.000000\n",
            "IL6             58.822323\n",
            "HK               2.419954\n",
            "LYMABS          42.585044\n",
            "THROMB           2.427645\n",
            "MONOZY          42.659386\n",
            "HB               2.419954\n",
            "GRANAB          42.636315\n",
            "MPV             45.602297\n",
            "RDW-SD          44.253890\n",
            "MicroE           3.499192\n",
            "MCHC             2.419954\n",
            "LYMPHO          42.585044\n",
            "IG%             40.572688\n",
            "IG#             58.583917\n",
            "ERY              2.419954\n",
            "EOSABS          53.967033\n",
            "MakroE           3.491502\n",
            "MCH              2.419954\n",
            "GRANUL          42.636315\n",
            "EOSINO          54.630983\n",
            "LEUKO            2.427645\n",
            "BASOAB          45.140865\n",
            "MCV              2.419954\n",
            "MONABS          42.661950\n",
            "BASOPH          45.294676\n",
            "age              0.000000\n",
            "dtype: float64\n"
          ]
        }
      ],
      "source": [
        "# Calculate the percentage of '-1' values for each column\n",
        "percentage_minus_one = (counts_minus_one / filtered_df.shape[0]) * 100\n",
        "percentage_minus_oneI = (counts_minus_oneI / pct_data_sepsis_I.shape[0]) * 100\n",
        "\n",
        "# Display the percentage for each column\n",
        "print(percentage_minus_one)\n",
        "print(percentage_minus_oneI)\n"
      ]
    },
    {
      "cell_type": "code",
      "execution_count": 47,
      "metadata": {
        "colab": {
          "base_uri": "https://localhost:8080/",
          "height": 807
        },
        "id": "Is_rcHGVnEA9",
        "outputId": "37b35082-9a1e-458e-fa3e-d0cb8168d1a9"
      },
      "outputs": [
        {
          "data": {
            "image/png": "[encoded data removed]",
            "text/plain": [
              "<Figure size 1500x800 with 1 Axes>"
            ]
          },
          "metadata": {},
          "output_type": "display_data"
        }
      ],
      "source": [
        "import matplotlib.pyplot as plt\n",
        "import pandas as pd\n",
        "\n",
        "# New dataset with updated values\n",
        "percentage_minus_one = pd.Series({\n",
        "    'sex': 0.000000,\n",
        "    'sepsis_cat': 0.000000,\n",
        "    'PCT': 2.393598,\n",
        "    'IL6': 76.426337,\n",
        "    'HK': 2.491088,\n",
        "    'LYMABS': 28.174609,\n",
        "    'THROMB': 2.505638,\n",
        "    'MONOZY': 28.197890,\n",
        "    'HB': 2.491088,\n",
        "    'GRANAB': 28.184794,\n",
        "    'MPV': 43.317570,\n",
        "    'RDW-SD': 42.469262,\n",
        "    'MicroE': 3.282648,\n",
        "    'MCHC': 2.492543,\n",
        "    'LYMPHO': 28.176064,\n",
        "    'IG%': 26.789378,\n",
        "    'IG#': 69.353219,\n",
        "    'ERY': 2.491088,\n",
        "    'EOSABS': 35.026555,\n",
        "    'MakroE': 3.268097,\n",
        "    'MCH': 2.491088,\n",
        "    'GRANUL': 28.184794,\n",
        "    'EOSINO': 35.324845,\n",
        "    'LEUKO': 2.524554,\n",
        "    'BASOAB': 29.539469,\n",
        "    'MCV': 2.491088,\n",
        "    'MONABS': 28.199345,\n",
        "    'BASOPH': 29.591852,\n",
        "    'age': 0.000000\n",
        "})\n",
        "\n",
        "\n",
        "# Create a bar chart\n",
        "plt.figure(figsize=(15, 8))  # Adjusted the figure size for better visibility\n",
        "plt.bar(percentage_minus_one.index, percentage_minus_one.values, color='green')\n",
        "plt.xlabel('Features')\n",
        "plt.ylabel('Percentage of \\'-1\\' Values (%)')\n",
        "plt.title('Percentage of \\'-1\\' Values by Features')\n",
        "# Add a horizontal line at 60%\n",
        "plt.axhline(y=50, color='r', linestyle='-', linewidth=2)  # red line, solid, width of 2\n",
        "plt.xticks(rotation=90)  # Rotates the test parameter names for better visibility\n",
        "plt.tight_layout()  # Adjusts subplot params so that the subplot(s) fits in to the figure area.\n",
        "plt.show()\n"
      ]
    },
    {
      "cell_type": "code",
      "execution_count": 48,
      "metadata": {
        "colab": {
          "base_uri": "https://localhost:8080/"
        },
        "id": "LNDK8HQWnOXd",
        "outputId": "000eb74e-b3a6-4646-a3b2-d16031738815"
      },
      "outputs": [
        {
          "name": "stderr",
          "output_type": "stream",
          "text": [
            "C:\\Users\\menia\\AppData\\Local\\Temp\\ipykernel_20896\\186374524.py:2: SettingWithCopyWarning: \n",
            "A value is trying to be set on a copy of a slice from a DataFrame\n",
            "\n",
            "See the caveats in the documentation: https://pandas.pydata.org/pandas-docs/stable/user_guide/indexing.html#returning-a-view-versus-a-copy\n",
            "  filtered_df.drop(columns=columns_to_drop, axis=1, inplace=True)\n"
          ]
        }
      ],
      "source": [
        "columns_to_drop =['IG#', 'IL6']\n",
        "filtered_df.drop(columns=columns_to_drop, axis=1, inplace=True)\n",
        "pct_data_sepsis_I.drop(columns=columns_to_drop, axis=1, inplace=True)"
      ]
    },
    {
      "cell_type": "code",
      "execution_count": 49,
      "metadata": {
        "colab": {
          "base_uri": "https://localhost:8080/"
        },
        "id": "GCJmCRmEdNep",
        "outputId": "d546e591-5f24-408c-e0ed-1bc6f0e6fd11"
      },
      "outputs": [
        {
          "name": "stdout",
          "output_type": "stream",
          "text": [
            "(68725, 28)\n",
            "(39009, 28)\n"
          ]
        }
      ],
      "source": [
        "print(filtered_df.shape)\n",
        "print(pct_data_sepsis_I.shape)"
      ]
    },
    {
      "cell_type": "markdown",
      "metadata": {
        "id": "1lhQwJ42dMzE"
      },
      "source": []
    },
    {
      "cell_type": "code",
      "execution_count": 50,
      "metadata": {
        "id": "bmAzcPasn_J-"
      },
      "outputs": [],
      "source": [
        "#Filter out rows where PCT == -1\n",
        "filtered_df = filtered_df[filtered_df['PCT'] != -1]\n",
        "pct_data_sepsis_I = pct_data_sepsis_I[pct_data_sepsis_I['PCT'] != -1]"
      ]
    },
    {
      "cell_type": "code",
      "execution_count": 51,
      "metadata": {
        "colab": {
          "base_uri": "https://localhost:8080/"
        },
        "id": "wgZjL47NoCBh",
        "outputId": "50d0a04b-e0df-4ac1-fbe0-46f279af04f7"
      },
      "outputs": [
        {
          "name": "stdout",
          "output_type": "stream",
          "text": [
            "(67080, 28)\n",
            "(39009, 28)\n"
          ]
        }
      ],
      "source": [
        "print(filtered_df.shape)\n",
        "print(pct_data_sepsis_I.shape)"
      ]
    },
    {
      "cell_type": "code",
      "execution_count": 52,
      "metadata": {
        "colab": {
          "base_uri": "https://localhost:8080/"
        },
        "id": "7pUzRLOcnaYM",
        "outputId": "3ae89967-2ca8-4fe4-f606-24f610af0d68"
      },
      "outputs": [
        {
          "name": "stdout",
          "output_type": "stream",
          "text": [
            "order_number        0\n",
            "sex                 0\n",
            "sepsis_cat          0\n",
            "PCT                 0\n",
            "HK               1110\n",
            "LYMABS          18457\n",
            "THROMB           1119\n",
            "MONOZY          18472\n",
            "HB               1110\n",
            "GRANAB          18464\n",
            "MPV             28558\n",
            "RDW-SD          27989\n",
            "MicroE           1639\n",
            "MCHC             1110\n",
            "LYMPHO          18458\n",
            "IG%             17534\n",
            "ERY              1110\n",
            "EOSABS          23084\n",
            "MakroE           1629\n",
            "MCH              1110\n",
            "GRANUL          18464\n",
            "EOSINO          23283\n",
            "LEUKO            1132\n",
            "BASOAB          19373\n",
            "MCV              1110\n",
            "MONABS          18473\n",
            "BASOPH          19408\n",
            "age                 0\n",
            "dtype: int64\n",
            "order_number        0\n",
            "sex                 0\n",
            "sepsis_cat          0\n",
            "PCT                 0\n",
            "HK                944\n",
            "LYMABS          16612\n",
            "THROMB            947\n",
            "MONOZY          16641\n",
            "HB                944\n",
            "GRANAB          16632\n",
            "MPV             17789\n",
            "RDW-SD          17263\n",
            "MicroE           1365\n",
            "MCHC              944\n",
            "LYMPHO          16612\n",
            "IG%             15827\n",
            "ERY               944\n",
            "EOSABS          21052\n",
            "MakroE           1362\n",
            "MCH               944\n",
            "GRANUL          16632\n",
            "EOSINO          21311\n",
            "LEUKO             947\n",
            "BASOAB          17609\n",
            "MCV               944\n",
            "MONABS          16642\n",
            "BASOPH          17669\n",
            "age                 0\n",
            "dtype: int64\n"
          ]
        }
      ],
      "source": [
        "#Counting minus 1 on all columns:\n",
        "counts_minus_one = (filtered_df == -1).sum()\n",
        "\n",
        "# Display the count for each column\n",
        "print(counts_minus_one)\n",
        "\n",
        "#Counting minus 1 on all columns:\n",
        "counts_minus_oneI = (pct_data_sepsis_I == -1).sum()\n",
        "\n",
        "# Display the count for each column\n",
        "print(counts_minus_oneI)"
      ]
    },
    {
      "cell_type": "code",
      "execution_count": 53,
      "metadata": {
        "colab": {
          "base_uri": "https://localhost:8080/"
        },
        "id": "sYFY2ExqoMbr",
        "outputId": "d793f5bc-b3e9-4a61-d902-129421a92687"
      },
      "outputs": [
        {
          "name": "stdout",
          "output_type": "stream",
          "text": [
            "order_number        0\n",
            "sex                 0\n",
            "sepsis_cat          0\n",
            "PCT                 0\n",
            "HK               1110\n",
            "LYMABS          18457\n",
            "THROMB           1119\n",
            "MONOZY          18472\n",
            "HB               1110\n",
            "GRANAB          18464\n",
            "MPV             28558\n",
            "RDW-SD          27989\n",
            "MicroE           1639\n",
            "MCHC             1110\n",
            "LYMPHO          18458\n",
            "IG%             17534\n",
            "ERY              1110\n",
            "EOSABS          23084\n",
            "MakroE           1629\n",
            "MCH              1110\n",
            "GRANUL          18464\n",
            "EOSINO          23283\n",
            "LEUKO            1132\n",
            "BASOAB          19373\n",
            "MCV              1110\n",
            "MONABS          18473\n",
            "BASOPH          19408\n",
            "age                 0\n",
            "dtype: int64\n",
            "order_number        0\n",
            "sex                 0\n",
            "sepsis_cat          0\n",
            "PCT                 0\n",
            "HK                944\n",
            "LYMABS          16612\n",
            "THROMB            947\n",
            "MONOZY          16641\n",
            "HB                944\n",
            "GRANAB          16632\n",
            "MPV             17789\n",
            "RDW-SD          17263\n",
            "MicroE           1365\n",
            "MCHC              944\n",
            "LYMPHO          16612\n",
            "IG%             15827\n",
            "ERY               944\n",
            "EOSABS          21052\n",
            "MakroE           1362\n",
            "MCH               944\n",
            "GRANUL          16632\n",
            "EOSINO          21311\n",
            "LEUKO             947\n",
            "BASOAB          17609\n",
            "MCV               944\n",
            "MONABS          16642\n",
            "BASOPH          17669\n",
            "age                 0\n",
            "dtype: int64\n"
          ]
        }
      ],
      "source": [
        "# Replace -1 values with NaN\n",
        "filtered_df.replace(-1, pd.NA, inplace=True)\n",
        "pct_data_sepsis_I.replace(-1, pd.NA, inplace=True)\n",
        "\n",
        "# Counting minus 1 on all columns (this will now count NaN instead of -1)\n",
        "counts_minus_one = filtered_df.isna().sum()\n",
        "counts_minus_oneI = pct_data_sepsis_I.isna().sum()\n",
        "\n",
        "# Display the count for each column\n",
        "print(counts_minus_one)\n",
        "print(counts_minus_oneI)\n"
      ]
    },
    {
      "cell_type": "code",
      "execution_count": 54,
      "metadata": {
        "colab": {
          "base_uri": "https://localhost:8080/"
        },
        "id": "YqHpOrVlobEb",
        "outputId": "5ad4011b-0861-42c8-e084-83004f7eae11"
      },
      "outputs": [
        {
          "name": "stdout",
          "output_type": "stream",
          "text": [
            "(67080, 28)\n",
            "(39009, 28)\n"
          ]
        }
      ],
      "source": [
        "print(filtered_df.shape)\n",
        "print(pct_data_sepsis_I.shape)"
      ]
    },
    {
      "cell_type": "code",
      "execution_count": 55,
      "metadata": {
        "colab": {
          "base_uri": "https://localhost:8080/"
        },
        "id": "HfWip3K5o1MV",
        "outputId": "8ce0c80d-4923-4087-db2b-18dbe60d6f8a"
      },
      "outputs": [
        {
          "name": "stdout",
          "output_type": "stream",
          "text": [
            "Index(['order_number', 'sex', 'sepsis_cat', 'PCT', 'HK', 'LYMABS', 'THROMB',\n",
            "       'MONOZY', 'HB', 'GRANAB', 'MPV', 'RDW-SD', 'MicroE', 'MCHC', 'LYMPHO',\n",
            "       'IG%', 'ERY', 'EOSABS', 'MakroE', 'MCH', 'GRANUL', 'EOSINO', 'LEUKO',\n",
            "       'BASOAB', 'MCV', 'MONABS', 'BASOPH', 'age'],\n",
            "      dtype='object')\n",
            "Index(['order_number', 'sex', 'sepsis_cat', 'PCT', 'HK', 'LYMABS', 'THROMB',\n",
            "       'MONOZY', 'HB', 'GRANAB', 'MPV', 'RDW-SD', 'MicroE', 'MCHC', 'LYMPHO',\n",
            "       'IG%', 'ERY', 'EOSABS', 'MakroE', 'MCH', 'GRANUL', 'EOSINO', 'LEUKO',\n",
            "       'BASOAB', 'MCV', 'MONABS', 'BASOPH', 'age'],\n",
            "      dtype='object')\n"
          ]
        }
      ],
      "source": [
        "print(filtered_df.columns)\n",
        "print(pct_data_sepsis_I.columns)"
      ]
    },
    {
      "cell_type": "markdown",
      "metadata": {
        "id": "gZPbr6eCjfFq"
      },
      "source": [
        "# first dataset: Leipzig papers: Age, Sex, HB, MCV, PLT ( THROMB) , RBC( ERY) , WBC( LEUKO) , !!!!!!!!!!!!!!!!!!  2 HB"
      ]
    },
    {
      "cell_type": "code",
      "execution_count": 56,
      "metadata": {
        "colab": {
          "base_uri": "https://localhost:8080/"
        },
        "id": "lUoZqgIaorMT",
        "outputId": "692d1e4f-86eb-401c-b253-8c968a9a6cbb"
      },
      "outputs": [
        {
          "name": "stdout",
          "output_type": "stream",
          "text": [
            "     age sex    HB    MCV THROMB   ERY LEUKO    PCT\n",
            "6   60.0   M  10.0   93.4     48  3.18  10.8   2.34\n",
            "12  90.0   M  11.6   90.2    104  3.68   6.6   6.54\n",
            "13  80.0   M  11.2   93.5    434  3.72  14.5   5.22\n",
            "15  55.0   M  11.5  101.8    144  3.37   6.5   3.33\n",
            "25  68.0   W   9.2   89.9    303  3.06  11.3  36.60\n"
          ]
        }
      ],
      "source": [
        "# Select specific columns\n",
        "selected_columns = [\n",
        "    'age', 'sex', 'HB', 'MCV', 'THROMB', 'ERY', 'LEUKO', 'PCT']\n",
        "\n",
        "# Creating a new DataFrame with only the selected columns\n",
        "first_df = filtered_df[selected_columns]\n",
        "\n",
        "# Display the new DataFrame\n",
        "print(first_df.head())"
      ]
    },
    {
      "cell_type": "code",
      "execution_count": 57,
      "metadata": {
        "colab": {
          "base_uri": "https://localhost:8080/"
        },
        "id": "QhDcBpgHpQ19",
        "outputId": "a5b0fe17-0da1-42fe-f75e-73952221282b"
      },
      "outputs": [
        {
          "name": "stdout",
          "output_type": "stream",
          "text": [
            "age          0\n",
            "sex          0\n",
            "HB        1110\n",
            "MCV       1110\n",
            "THROMB    1119\n",
            "ERY       1110\n",
            "LEUKO     1132\n",
            "PCT          0\n",
            "dtype: int64\n"
          ]
        }
      ],
      "source": [
        "# Counting NULL on all columns (this will now count NaN instead of -1)\n",
        "counts_minus_one = first_df.isna().sum()\n",
        "print(counts_minus_one)"
      ]
    },
    {
      "cell_type": "code",
      "execution_count": 58,
      "metadata": {
        "colab": {
          "base_uri": "https://localhost:8080/"
        },
        "id": "K0Tv3mqwpkM0",
        "outputId": "0632c5f3-12f6-4b79-b80c-b2901c383814"
      },
      "outputs": [
        {
          "name": "stderr",
          "output_type": "stream",
          "text": [
            "C:\\Users\\menia\\AppData\\Local\\Temp\\ipykernel_20896\\3520176608.py:9: FutureWarning: Downcasting behavior in `replace` is deprecated and will be removed in a future version. To retain the old behavior, explicitly call `result.infer_objects(copy=False)`. To opt-in to the future behavior, set `pd.set_option('future.no_silent_downcasting', True)`\n",
            "  first_df = first_df.replace({pd.NA: np.nan})\n",
            "c:\\Users\\menia\\Desktop\\PortefolioML\\Sepsis\\venv\\Lib\\site-packages\\sklearn\\impute\\_iterative.py:825: ConvergenceWarning: [IterativeImputer] Early stopping criterion not reached.\n",
            "  warnings.warn(\n"
          ]
        }
      ],
      "source": [
        "#KNN\n",
        "import numpy as np\n",
        "import pandas as pd\n",
        "from sklearn.neighbors import KNeighborsRegressor\n",
        "from sklearn.experimental import enable_iterative_imputer\n",
        "from sklearn.impute import IterativeImputer\n",
        "\n",
        "# Convert pd.NA to np.nan\n",
        "first_df = first_df.replace({pd.NA: np.nan})\n",
        "\n",
        "# One-hot encode the 'sex' column\n",
        "# One-hot encode the 'sex' column and drop the first category\n",
        "first_df = pd.get_dummies(first_df, columns=['sex'], drop_first=True)\n",
        "# Step 3: Setup the Iterative Imputer with a KNN estimator\n",
        "# You can adjust the number of neighbors (`n_neighbors`) as needed\n",
        "imputer = IterativeImputer(estimator=KNeighborsRegressor(n_neighbors=5), max_iter=10, random_state=0)\n",
        "\n",
        "# Step 4: Fit and transform the data\n",
        "# This will fill in all missing values in the dataframe\n",
        "first_df_imputed = pd.DataFrame(imputer.fit_transform(first_df), columns=first_df.columns)"
      ]
    },
    {
      "cell_type": "code",
      "execution_count": 59,
      "metadata": {
        "colab": {
          "base_uri": "https://localhost:8080/"
        },
        "id": "20vud2xCp-Pk",
        "outputId": "40157008-8b1c-4661-b8f2-ef07d6ec618b"
      },
      "outputs": [
        {
          "name": "stdout",
          "output_type": "stream",
          "text": [
            "Fitting 5 folds for each of 60 candidates, totalling 300 fits\n",
            "Best ROC AUC Score:  0.9167868674759326\n",
            "Best parameters:  {'estimator__max_depth': 5, 'learning_rate': 0.01, 'n_estimators': 300}\n",
            "auc_scores [0.9126909462963955, 0.917693949147534, 0.917989420940565, 0.9157244126343845, 0.9198356083607838]\n",
            "Mean auc_scores: 0.9167868674759326\n",
            "accuracy_scores [0.810077519379845, 0.8571109123434705, 0.865757304710793, 0.864788312462731, 0.8559928443649374]\n",
            "Mean accuracy_scores: 0.8507453786523553\n",
            "precision_scores [0.4515033947623666, 0.5347786811201445, 0.5559858018715714, 0.5544328552803129, 0.5318208603417797]\n",
            "Mean precision_scores: 0.525704318675235\n",
            "recall_scores [0.866852886405959, 0.8268156424581006, 0.8021415270018621, 0.7918994413407822, 0.840316573556797]\n",
            "Mean recall_scores: 0.8256052141527002\n",
            "f1_scores [0.59375, 0.6494788809654416, 0.656756241661902, 0.6522239263803681, 0.651389390111873]\n",
            "Mean f1_scores: 0.640719687823917\n",
            "confusion_matrices [[48201  8139]\n",
            " [ 1873  8867]]\n"
          ]
        },
        {
          "name": "stderr",
          "output_type": "stream",
          "text": [
            "c:\\Users\\menia\\Desktop\\PortefolioML\\Sepsis\\venv\\Lib\\site-packages\\sklearn\\model_selection\\_validation.py:540: FitFailedWarning: \n",
            "5 fits failed out of a total of 50.\n",
            "The score on these train-test partitions for these parameters will be set to nan.\n",
            "If these failures are not expected, you can try to debug them by setting error_score='raise'.\n",
            "\n",
            "Below are more details about the failures:\n",
            "--------------------------------------------------------------------------------\n",
            "5 fits failed with the following error:\n",
            "Traceback (most recent call last):\n",
            "  File \"c:\\Users\\menia\\Desktop\\PortefolioML\\Sepsis\\venv\\Lib\\site-packages\\sklearn\\model_selection\\_validation.py\", line 888, in _fit_and_score\n",
            "    estimator.fit(X_train, y_train, **fit_params)\n",
            "  File \"c:\\Users\\menia\\Desktop\\PortefolioML\\Sepsis\\venv\\Lib\\site-packages\\sklearn\\base.py\", line 1473, in wrapper\n",
            "    return fit_method(estimator, *args, **kwargs)\n",
            "           ^^^^^^^^^^^^^^^^^^^^^^^^^^^^^^^^^^^^^^\n",
            "  File \"c:\\Users\\menia\\Desktop\\PortefolioML\\Sepsis\\venv\\Lib\\site-packages\\imblearn\\ensemble\\_weight_boosting.py\", line 230, in fit\n",
            "    super().fit(X, y, sample_weight)\n",
            "  File \"c:\\Users\\menia\\Desktop\\PortefolioML\\Sepsis\\venv\\Lib\\site-packages\\sklearn\\base.py\", line 1473, in wrapper\n",
            "    return fit_method(estimator, *args, **kwargs)\n",
            "           ^^^^^^^^^^^^^^^^^^^^^^^^^^^^^^^^^^^^^^\n",
            "  File \"c:\\Users\\menia\\Desktop\\PortefolioML\\Sepsis\\venv\\Lib\\site-packages\\sklearn\\ensemble\\_weight_boosting.py\", line 169, in fit\n",
            "    sample_weight, estimator_weight, estimator_error = self._boost(\n",
            "                                                       ^^^^^^^^^^^^\n",
            "  File \"c:\\Users\\menia\\Desktop\\PortefolioML\\Sepsis\\venv\\Lib\\site-packages\\sklearn\\ensemble\\_weight_boosting.py\", line 594, in _boost\n",
            "    return self._boost_real(iboost, X, y, sample_weight, random_state)\n",
            "           ^^^^^^^^^^^^^^^^^^^^^^^^^^^^^^^^^^^^^^^^^^^^^^^^^^^^^^^^^^^\n",
            "  File \"c:\\Users\\menia\\Desktop\\PortefolioML\\Sepsis\\venv\\Lib\\site-packages\\imblearn\\ensemble\\_weight_boosting.py\", line 290, in _boost_real\n",
            "    X_res, y_res = sampler.fit_resample(X, y)\n",
            "                   ^^^^^^^^^^^^^^^^^^^^^^^^^^\n",
            "  File \"c:\\Users\\menia\\Desktop\\PortefolioML\\Sepsis\\venv\\Lib\\site-packages\\imblearn\\base.py\", line 208, in fit_resample\n",
            "    return super().fit_resample(X, y)\n",
            "           ^^^^^^^^^^^^^^^^^^^^^^^^^^\n",
            "  File \"c:\\Users\\menia\\Desktop\\PortefolioML\\Sepsis\\venv\\Lib\\site-packages\\imblearn\\base.py\", line 108, in fit_resample\n",
            "    self.sampling_strategy_ = check_sampling_strategy(\n",
            "                              ^^^^^^^^^^^^^^^^^^^^^^^^\n",
            "  File \"c:\\Users\\menia\\Desktop\\PortefolioML\\Sepsis\\venv\\Lib\\site-packages\\imblearn\\utils\\_validation.py\", line 537, in check_sampling_strategy\n",
            "    raise ValueError(\n",
            "ValueError: The target 'y' needs to have more than 1 class. Got 1 class instead\n",
            "\n",
            "  warnings.warn(some_fits_failed_message, FitFailedWarning)\n"
          ]
        },
        {
          "data": {
            "image/png": "[encoded data removed]",
            "text/plain": [
              "<Figure size 640x480 with 1 Axes>"
            ]
          },
          "metadata": {},
          "output_type": "display_data"
        }
      ],
      "source": [
        "# RUSBoost\n",
        "from sklearn.model_selection import StratifiedKFold, GridSearchCV, learning_curve\n",
        "from sklearn.tree import DecisionTreeClassifier\n",
        "from imblearn.ensemble import RUSBoostClassifier\n",
        "from sklearn.metrics import accuracy_score, precision_score, recall_score, f1_score, confusion_matrix, roc_auc_score, make_scorer\n",
        "import numpy as np\n",
        "import pandas as pd\n",
        "import matplotlib.pyplot as plt\n",
        "\n",
        "# Load or define your DataFrame\n",
        "data = first_df_imputed  # Replace 'first_df_imputed' with your actual DataFrame name\n",
        "\n",
        "# Define the target based on 'PCT' values\n",
        "data['Label'] = np.where(data['PCT'] > 2, 1, 0)\n",
        "\n",
        "# Select features excluding 'PCT' and 'Label'\n",
        "features = data.columns.difference(['PCT', 'Label'])\n",
        "X = data[features]\n",
        "y = data['Label']\n",
        "\n",
        "# Setup cross-validation\n",
        "cv = StratifiedKFold(n_splits=5)\n",
        "\n",
        "# Define the parameter grid\n",
        "param_grid = {\n",
        "    'estimator__max_depth': [5, 10, 15],\n",
        "    'n_estimators': [100, 300, 500, 700, 900],\n",
        "    'learning_rate': [0.01, 0.1, 0.5, 1]\n",
        "}\n",
        "\n",
        "# Create a RUSBoost model with specified parameters\n",
        "rusboost = RUSBoostClassifier(\n",
        "    estimator=DecisionTreeClassifier(),\n",
        "    algorithm='SAMME.R',\n",
        "    random_state=1714400672\n",
        ")\n",
        "\n",
        "# Setup GridSearchCV\n",
        "grid_search = GridSearchCV(rusboost, param_grid, cv=cv, scoring='roc_auc', n_jobs=-1, verbose=1)\n",
        "\n",
        "# Fit GridSearchCV\n",
        "grid_search.fit(X, y)\n",
        "\n",
        "# Best model from grid search\n",
        "best_model = grid_search.best_estimator_\n",
        "\n",
        "# Print best score and best parameters\n",
        "print(\"Best ROC AUC Score: \", grid_search.best_score_)\n",
        "print(\"Best parameters: \", grid_search.best_params_)\n",
        "\n",
        "# Perform detailed evaluation on the best model\n",
        "scores = {}\n",
        "scores['auc_scores'] = []\n",
        "scores['accuracy_scores'] = []\n",
        "scores['precision_scores'] = []\n",
        "scores['recall_scores'] = []\n",
        "scores['f1_scores'] = []\n",
        "scores['confusion_matrices'] = []\n",
        "\n",
        "for train_idx, test_idx in cv.split(X, y):\n",
        "    X_train, X_test = X.iloc[train_idx], X.iloc[test_idx]\n",
        "    y_train, y_test = y.iloc[train_idx], y.iloc[test_idx]\n",
        "\n",
        "    # Fit the model\n",
        "    best_model.fit(X_train, y_train)\n",
        "\n",
        "    # Predict outcomes\n",
        "    y_pred = best_model.predict(X_test)\n",
        "    y_pred_prob = best_model.predict_proba(X_test)[:, 1]\n",
        "\n",
        "    # Calculate metrics\n",
        "    scores['auc_scores'].append(roc_auc_score(y_test, y_pred_prob))\n",
        "    scores['accuracy_scores'].append(accuracy_score(y_test, y_pred))\n",
        "    scores['precision_scores'].append(precision_score(y_test, y_pred))\n",
        "    scores['recall_scores'].append(recall_score(y_test, y_pred))\n",
        "    scores['f1_scores'].append(f1_score(y_test, y_pred))\n",
        "    scores['confusion_matrices'].append(confusion_matrix(y_test, y_pred))\n",
        "\n",
        "# Display all results\n",
        "for metric, values in scores.items():\n",
        "    if metric == 'confusion_matrices':\n",
        "        print(metric, np.sum(values, axis=0))\n",
        "    else:\n",
        "        print(metric, values)\n",
        "        print(\"Mean {}: {}\".format(metric, np.mean(values)))\n",
        "\n",
        "# Plot learning curves for the best model\n",
        "train_sizes, train_scores, test_scores = learning_curve(\n",
        "    best_model, X, y, cv=cv, scoring='roc_auc', n_jobs=-1,\n",
        "    train_sizes=np.linspace(0.1, 1.0, 10)\n",
        ")\n",
        "\n",
        "train_scores_mean = np.mean(train_scores, axis=1)\n",
        "train_scores_std = np.std(train_scores, axis=1)\n",
        "test_scores_mean = np.mean(test_scores, axis=1)\n",
        "test_scores_std = np.std(test_scores, axis=1)\n",
        "\n",
        "plt.figure()\n",
        "plt.title(\"Learning Curves (Best RUSBoost)\")\n",
        "plt.xlabel(\"Training examples\")\n",
        "plt.ylabel(\"ROC AUC Score\")\n",
        "plt.ylim((0.5, 1.01))\n",
        "plt.grid()\n",
        "\n",
        "plt.fill_between(train_sizes, train_scores_mean - train_scores_std,\n",
        "                 train_scores_mean + train_scores_std, alpha=0.1,\n",
        "                 color=\"r\")\n",
        "plt.fill_between(train_sizes, test_scores_mean - test_scores_std,\n",
        "                 test_scores_mean + test_scores_std, alpha=0.1, color=\"g\")\n",
        "plt.plot(train_sizes, train_scores_mean, 'o-', color=\"r\",\n",
        "         label=\"Training score\")\n",
        "plt.plot(train_sizes, test_scores_mean, 'o-', color=\"g\",\n",
        "         label=\"Cross-validation score\")\n",
        "\n",
        "plt.legend(loc=\"best\")\n",
        "plt.show()"
      ]
    },
    {
      "cell_type": "code",
      "execution_count": 63,
      "metadata": {
        "colab": {
          "background_save": true
        },
        "id": "ubvU50eZYniz"
      },
      "outputs": [
        {
          "ename": "TypeError",
          "evalue": "AdaBoostClassifier.__init__() got an unexpected keyword argument 'base_estimator'",
          "output_type": "error",
          "traceback": [
            "\u001b[1;31m---------------------------------------------------------------------------\u001b[0m",
            "\u001b[1;31mTypeError\u001b[0m                                 Traceback (most recent call last)",
            "Cell \u001b[1;32mIn[63], line 27\u001b[0m\n\u001b[0;32m     22\u001b[0m y \u001b[39m=\u001b[39m data_smote[\u001b[39m'\u001b[39m\u001b[39mLabel\u001b[39m\u001b[39m'\u001b[39m]\n\u001b[0;32m     24\u001b[0m \u001b[39m# Create a pipeline with SMOTE and AdaBoost\u001b[39;00m\n\u001b[0;32m     25\u001b[0m pipeline \u001b[39m=\u001b[39m imblearnPipeline([\n\u001b[0;32m     26\u001b[0m     (\u001b[39m'\u001b[39m\u001b[39msmote\u001b[39m\u001b[39m'\u001b[39m, SMOTE(random_state\u001b[39m=\u001b[39m\u001b[39m42\u001b[39m)),\n\u001b[1;32m---> 27\u001b[0m     (\u001b[39m'\u001b[39m\u001b[39madaboost\u001b[39m\u001b[39m'\u001b[39m, AdaBoostClassifier(\n\u001b[0;32m     28\u001b[0m         base_estimator\u001b[39m=\u001b[39;49mDecisionTreeClassifier(max_depth\u001b[39m=\u001b[39;49m\u001b[39m5\u001b[39;49m),\n\u001b[0;32m     29\u001b[0m         random_state\u001b[39m=\u001b[39;49m\u001b[39m1714400672\u001b[39;49m\n\u001b[0;32m     30\u001b[0m     ))\n\u001b[0;32m     31\u001b[0m ])\n\u001b[0;32m     33\u001b[0m \u001b[39m# Setup cross-validation\u001b[39;00m\n\u001b[0;32m     34\u001b[0m cv \u001b[39m=\u001b[39m StratifiedKFold(n_splits\u001b[39m=\u001b[39m\u001b[39m5\u001b[39m)\n",
            "\u001b[1;31mTypeError\u001b[0m: AdaBoostClassifier.__init__() got an unexpected keyword argument 'base_estimator'"
          ]
        }
      ],
      "source": [
        "#SMOTE_bad results\n",
        "# Import necessary libraries\n",
        "from sklearn.model_selection import StratifiedKFold, GridSearchCV, learning_curve\n",
        "from sklearn.tree import DecisionTreeClassifier\n",
        "from sklearn.ensemble import AdaBoostClassifier\n",
        "from imblearn.over_sampling import SMOTE\n",
        "from imblearn.pipeline import Pipeline as imblearnPipeline\n",
        "from sklearn.metrics import accuracy_score, precision_score, recall_score, f1_score, confusion_matrix, roc_auc_score, make_scorer\n",
        "import numpy as np\n",
        "import pandas as pd\n",
        "import matplotlib.pyplot as plt\n",
        "\n",
        "# Load or define your DataFrame\n",
        "data_smote = first_df_imputed  # Replace 'first_df_imputed' with your actual DataFrame name\n",
        "\n",
        "# Define the target based on 'PCT' values\n",
        "data_smote['Label'] = np.where(data_smote['PCT'] > 2, 1, 0)\n",
        "\n",
        "# Select features excluding 'PCT' and 'Label'\n",
        "features = data_smote.columns.difference(['PCT', 'Label'])\n",
        "X = data_smote[features]\n",
        "y = data_smote['Label']\n",
        "\n",
        "# Create a pipeline with SMOTE and AdaBoost\n",
        "pipeline = imblearnPipeline([\n",
        "    ('smote', SMOTE(random_state=42)),\n",
        "    ('adaboost', AdaBoostClassifier(\n",
        "        base_estimator=DecisionTreeClassifier(max_depth=5),\n",
        "        random_state=1714400672\n",
        "    ))\n",
        "])\n",
        "\n",
        "# Setup cross-validation\n",
        "cv = StratifiedKFold(n_splits=5)\n",
        "\n",
        "# Define the parameter grid\n",
        "param_grid = {\n",
        "    'smote__k_neighbors': [5, 10, 15],\n",
        "    'adaboost__n_estimators': [100, 300, 500, 700, 900],\n",
        "    'adaboost__learning_rate': [0.01, 0.1, 0.5, 1]\n",
        "}\n",
        "\n",
        "# Setup GridSearchCV\n",
        "grid_search = GridSearchCV(pipeline, param_grid, cv=cv, scoring='roc_auc', n_jobs=-1, verbose=1)\n",
        "\n",
        "# Fit GridSearchCV\n",
        "grid_search.fit(X, y)\n",
        "\n",
        "# Best model from grid search\n",
        "best_model = grid_search.best_estimator_\n",
        "\n",
        "# Print best score and best parameters\n",
        "print(\"Best ROC AUC Score: \", grid_search.best_score_)\n",
        "print(\"Best parameters: \", grid_search.best_params_)\n",
        "\n",
        "# Plot learning curves for the best model\n",
        "train_sizes, train_scores, test_scores = learning_curve(\n",
        "    best_model, X, y, cv=cv, scoring='roc_auc', n_jobs=-1,\n",
        "    train_sizes=np.linspace(0.1, 1.0, 5)  # Smaller steps in train sizes for better resolution\n",
        ")\n",
        "\n",
        "train_scores_mean = np.mean(train_scores, axis=1)\n",
        "train_scores_std = np.std(train_scores, axis=1)\n",
        "test_scores_mean = np.mean(test_scores, axis=1)\n",
        "test_scores_std = np.std(test_scores, axis=1)\n",
        "\n",
        "plt.figure()\n",
        "plt.title(\"Learning Curves (Best AdaBoost with SMOTE)\")\n",
        "plt.xlabel(\"Training examples\")\n",
        "plt.ylabel(\"ROC AUC Score\")\n",
        "plt.ylim((0.5, 1.01))\n",
        "plt.grid()\n",
        "\n",
        "plt.fill_between(train_sizes, train_scores_mean - train_scores_std,\n",
        "                 train_scores_mean + train_scores_std, alpha=0.1, color=\"r\")\n",
        "plt.fill_between(train_sizes, test_scores_mean - test_scores_std,\n",
        "                 test_scores_mean + test_scores_std, alpha=0.1, color=\"g\")\n",
        "plt.plot(train_sizes, train_scores_mean, 'o-', color=\"r\",\n",
        "         label=\"Training score\")\n",
        "plt.plot(train_sizes, test_scores_mean, 'o-', color=\"g\",\n",
        "         label=\"Cross-validation score\")\n",
        "\n",
        "plt.legend(loc=\"best\")\n",
        "plt.show()"
      ]
    },
    {
      "cell_type": "code",
      "execution_count": 64,
      "metadata": {
        "id": "8q7Usa8GWoTD"
      },
      "outputs": [
        {
          "name": "stdout",
          "output_type": "stream",
          "text": [
            "Fitting 5 folds for each of 180 candidates, totalling 900 fits\n"
          ]
        },
        {
          "ename": "KeyboardInterrupt",
          "evalue": "",
          "output_type": "error",
          "traceback": [
            "\u001b[1;31m---------------------------------------------------------------------------\u001b[0m",
            "\u001b[1;31mKeyboardInterrupt\u001b[0m                         Traceback (most recent call last)",
            "Cell \u001b[1;32mIn[64], line 39\u001b[0m\n\u001b[0;32m     36\u001b[0m grid_search \u001b[39m=\u001b[39m GridSearchCV(brf, param_grid, cv\u001b[39m=\u001b[39mcv, scoring\u001b[39m=\u001b[39m\u001b[39m'\u001b[39m\u001b[39mroc_auc\u001b[39m\u001b[39m'\u001b[39m, n_jobs\u001b[39m=\u001b[39m\u001b[39m-\u001b[39m\u001b[39m1\u001b[39m, verbose\u001b[39m=\u001b[39m\u001b[39m1\u001b[39m)\n\u001b[0;32m     38\u001b[0m \u001b[39m# Fit GridSearchCV\u001b[39;00m\n\u001b[1;32m---> 39\u001b[0m grid_search\u001b[39m.\u001b[39;49mfit(X, y)\n\u001b[0;32m     41\u001b[0m \u001b[39m# Best model from grid search\u001b[39;00m\n\u001b[0;32m     42\u001b[0m best_model \u001b[39m=\u001b[39m grid_search\u001b[39m.\u001b[39mbest_estimator_\n",
            "File \u001b[1;32mc:\\Users\\menia\\Desktop\\PortefolioML\\Sepsis\\venv\\Lib\\site-packages\\sklearn\\base.py:1473\u001b[0m, in \u001b[0;36m_fit_context.<locals>.decorator.<locals>.wrapper\u001b[1;34m(estimator, *args, **kwargs)\u001b[0m\n\u001b[0;32m   1466\u001b[0m     estimator\u001b[39m.\u001b[39m_validate_params()\n\u001b[0;32m   1468\u001b[0m \u001b[39mwith\u001b[39;00m config_context(\n\u001b[0;32m   1469\u001b[0m     skip_parameter_validation\u001b[39m=\u001b[39m(\n\u001b[0;32m   1470\u001b[0m         prefer_skip_nested_validation \u001b[39mor\u001b[39;00m global_skip_validation\n\u001b[0;32m   1471\u001b[0m     )\n\u001b[0;32m   1472\u001b[0m ):\n\u001b[1;32m-> 1473\u001b[0m     \u001b[39mreturn\u001b[39;00m fit_method(estimator, \u001b[39m*\u001b[39;49margs, \u001b[39m*\u001b[39;49m\u001b[39m*\u001b[39;49mkwargs)\n",
            "File \u001b[1;32mc:\\Users\\menia\\Desktop\\PortefolioML\\Sepsis\\venv\\Lib\\site-packages\\sklearn\\model_selection\\_search.py:1018\u001b[0m, in \u001b[0;36mBaseSearchCV.fit\u001b[1;34m(self, X, y, **params)\u001b[0m\n\u001b[0;32m   1012\u001b[0m     results \u001b[39m=\u001b[39m \u001b[39mself\u001b[39m\u001b[39m.\u001b[39m_format_results(\n\u001b[0;32m   1013\u001b[0m         all_candidate_params, n_splits, all_out, all_more_results\n\u001b[0;32m   1014\u001b[0m     )\n\u001b[0;32m   1016\u001b[0m     \u001b[39mreturn\u001b[39;00m results\n\u001b[1;32m-> 1018\u001b[0m \u001b[39mself\u001b[39;49m\u001b[39m.\u001b[39;49m_run_search(evaluate_candidates)\n\u001b[0;32m   1020\u001b[0m \u001b[39m# multimetric is determined here because in the case of a callable\u001b[39;00m\n\u001b[0;32m   1021\u001b[0m \u001b[39m# self.scoring the return type is only known after calling\u001b[39;00m\n\u001b[0;32m   1022\u001b[0m first_test_score \u001b[39m=\u001b[39m all_out[\u001b[39m0\u001b[39m][\u001b[39m\"\u001b[39m\u001b[39mtest_scores\u001b[39m\u001b[39m\"\u001b[39m]\n",
            "File \u001b[1;32mc:\\Users\\menia\\Desktop\\PortefolioML\\Sepsis\\venv\\Lib\\site-packages\\sklearn\\model_selection\\_search.py:1572\u001b[0m, in \u001b[0;36mGridSearchCV._run_search\u001b[1;34m(self, evaluate_candidates)\u001b[0m\n\u001b[0;32m   1570\u001b[0m \u001b[39mdef\u001b[39;00m \u001b[39m_run_search\u001b[39m(\u001b[39mself\u001b[39m, evaluate_candidates):\n\u001b[0;32m   1571\u001b[0m \u001b[39m    \u001b[39m\u001b[39m\"\"\"Search all candidates in param_grid\"\"\"\u001b[39;00m\n\u001b[1;32m-> 1572\u001b[0m     evaluate_candidates(ParameterGrid(\u001b[39mself\u001b[39;49m\u001b[39m.\u001b[39;49mparam_grid))\n",
            "File \u001b[1;32mc:\\Users\\menia\\Desktop\\PortefolioML\\Sepsis\\venv\\Lib\\site-packages\\sklearn\\model_selection\\_search.py:964\u001b[0m, in \u001b[0;36mBaseSearchCV.fit.<locals>.evaluate_candidates\u001b[1;34m(candidate_params, cv, more_results)\u001b[0m\n\u001b[0;32m    956\u001b[0m \u001b[39mif\u001b[39;00m \u001b[39mself\u001b[39m\u001b[39m.\u001b[39mverbose \u001b[39m>\u001b[39m \u001b[39m0\u001b[39m:\n\u001b[0;32m    957\u001b[0m     \u001b[39mprint\u001b[39m(\n\u001b[0;32m    958\u001b[0m         \u001b[39m\"\u001b[39m\u001b[39mFitting \u001b[39m\u001b[39m{0}\u001b[39;00m\u001b[39m folds for each of \u001b[39m\u001b[39m{1}\u001b[39;00m\u001b[39m candidates,\u001b[39m\u001b[39m\"\u001b[39m\n\u001b[0;32m    959\u001b[0m         \u001b[39m\"\u001b[39m\u001b[39m totalling \u001b[39m\u001b[39m{2}\u001b[39;00m\u001b[39m fits\u001b[39m\u001b[39m\"\u001b[39m\u001b[39m.\u001b[39mformat(\n\u001b[0;32m    960\u001b[0m             n_splits, n_candidates, n_candidates \u001b[39m*\u001b[39m n_splits\n\u001b[0;32m    961\u001b[0m         )\n\u001b[0;32m    962\u001b[0m     )\n\u001b[1;32m--> 964\u001b[0m out \u001b[39m=\u001b[39m parallel(\n\u001b[0;32m    965\u001b[0m     delayed(_fit_and_score)(\n\u001b[0;32m    966\u001b[0m         clone(base_estimator),\n\u001b[0;32m    967\u001b[0m         X,\n\u001b[0;32m    968\u001b[0m         y,\n\u001b[0;32m    969\u001b[0m         train\u001b[39m=\u001b[39;49mtrain,\n\u001b[0;32m    970\u001b[0m         test\u001b[39m=\u001b[39;49mtest,\n\u001b[0;32m    971\u001b[0m         parameters\u001b[39m=\u001b[39;49mparameters,\n\u001b[0;32m    972\u001b[0m         split_progress\u001b[39m=\u001b[39;49m(split_idx, n_splits),\n\u001b[0;32m    973\u001b[0m         candidate_progress\u001b[39m=\u001b[39;49m(cand_idx, n_candidates),\n\u001b[0;32m    974\u001b[0m         \u001b[39m*\u001b[39;49m\u001b[39m*\u001b[39;49mfit_and_score_kwargs,\n\u001b[0;32m    975\u001b[0m     )\n\u001b[0;32m    976\u001b[0m     \u001b[39mfor\u001b[39;49;00m (cand_idx, parameters), (split_idx, (train, test)) \u001b[39min\u001b[39;49;00m product(\n\u001b[0;32m    977\u001b[0m         \u001b[39menumerate\u001b[39;49m(candidate_params),\n\u001b[0;32m    978\u001b[0m         \u001b[39menumerate\u001b[39;49m(cv\u001b[39m.\u001b[39;49msplit(X, y, \u001b[39m*\u001b[39;49m\u001b[39m*\u001b[39;49mrouted_params\u001b[39m.\u001b[39;49msplitter\u001b[39m.\u001b[39;49msplit)),\n\u001b[0;32m    979\u001b[0m     )\n\u001b[0;32m    980\u001b[0m )\n\u001b[0;32m    982\u001b[0m \u001b[39mif\u001b[39;00m \u001b[39mlen\u001b[39m(out) \u001b[39m<\u001b[39m \u001b[39m1\u001b[39m:\n\u001b[0;32m    983\u001b[0m     \u001b[39mraise\u001b[39;00m \u001b[39mValueError\u001b[39;00m(\n\u001b[0;32m    984\u001b[0m         \u001b[39m\"\u001b[39m\u001b[39mNo fits were performed. \u001b[39m\u001b[39m\"\u001b[39m\n\u001b[0;32m    985\u001b[0m         \u001b[39m\"\u001b[39m\u001b[39mWas the CV iterator empty? \u001b[39m\u001b[39m\"\u001b[39m\n\u001b[0;32m    986\u001b[0m         \u001b[39m\"\u001b[39m\u001b[39mWere there no candidates?\u001b[39m\u001b[39m\"\u001b[39m\n\u001b[0;32m    987\u001b[0m     )\n",
            "File \u001b[1;32mc:\\Users\\menia\\Desktop\\PortefolioML\\Sepsis\\venv\\Lib\\site-packages\\sklearn\\utils\\parallel.py:74\u001b[0m, in \u001b[0;36mParallel.__call__\u001b[1;34m(self, iterable)\u001b[0m\n\u001b[0;32m     69\u001b[0m config \u001b[39m=\u001b[39m get_config()\n\u001b[0;32m     70\u001b[0m iterable_with_config \u001b[39m=\u001b[39m (\n\u001b[0;32m     71\u001b[0m     (_with_config(delayed_func, config), args, kwargs)\n\u001b[0;32m     72\u001b[0m     \u001b[39mfor\u001b[39;00m delayed_func, args, kwargs \u001b[39min\u001b[39;00m iterable\n\u001b[0;32m     73\u001b[0m )\n\u001b[1;32m---> 74\u001b[0m \u001b[39mreturn\u001b[39;00m \u001b[39msuper\u001b[39;49m()\u001b[39m.\u001b[39;49m\u001b[39m__call__\u001b[39;49m(iterable_with_config)\n",
            "File \u001b[1;32mc:\\Users\\menia\\Desktop\\PortefolioML\\Sepsis\\venv\\Lib\\site-packages\\joblib\\parallel.py:2007\u001b[0m, in \u001b[0;36mParallel.__call__\u001b[1;34m(self, iterable)\u001b[0m\n\u001b[0;32m   2001\u001b[0m \u001b[39m# The first item from the output is blank, but it makes the interpreter\u001b[39;00m\n\u001b[0;32m   2002\u001b[0m \u001b[39m# progress until it enters the Try/Except block of the generator and\u001b[39;00m\n\u001b[0;32m   2003\u001b[0m \u001b[39m# reaches the first `yield` statement. This starts the asynchronous\u001b[39;00m\n\u001b[0;32m   2004\u001b[0m \u001b[39m# dispatch of the tasks to the workers.\u001b[39;00m\n\u001b[0;32m   2005\u001b[0m \u001b[39mnext\u001b[39m(output)\n\u001b[1;32m-> 2007\u001b[0m \u001b[39mreturn\u001b[39;00m output \u001b[39mif\u001b[39;00m \u001b[39mself\u001b[39m\u001b[39m.\u001b[39mreturn_generator \u001b[39melse\u001b[39;00m \u001b[39mlist\u001b[39;49m(output)\n",
            "File \u001b[1;32mc:\\Users\\menia\\Desktop\\PortefolioML\\Sepsis\\venv\\Lib\\site-packages\\joblib\\parallel.py:1650\u001b[0m, in \u001b[0;36mParallel._get_outputs\u001b[1;34m(self, iterator, pre_dispatch)\u001b[0m\n\u001b[0;32m   1647\u001b[0m     \u001b[39myield\u001b[39;00m\n\u001b[0;32m   1649\u001b[0m     \u001b[39mwith\u001b[39;00m \u001b[39mself\u001b[39m\u001b[39m.\u001b[39m_backend\u001b[39m.\u001b[39mretrieval_context():\n\u001b[1;32m-> 1650\u001b[0m         \u001b[39myield from\u001b[39;00m \u001b[39mself\u001b[39m\u001b[39m.\u001b[39m_retrieve()\n\u001b[0;32m   1652\u001b[0m \u001b[39mexcept\u001b[39;00m \u001b[39mGeneratorExit\u001b[39;00m:\n\u001b[0;32m   1653\u001b[0m     \u001b[39m# The generator has been garbage collected before being fully\u001b[39;00m\n\u001b[0;32m   1654\u001b[0m     \u001b[39m# consumed. This aborts the remaining tasks if possible and warn\u001b[39;00m\n\u001b[0;32m   1655\u001b[0m     \u001b[39m# the user if necessary.\u001b[39;00m\n\u001b[0;32m   1656\u001b[0m     \u001b[39mself\u001b[39m\u001b[39m.\u001b[39m_exception \u001b[39m=\u001b[39m \u001b[39mTrue\u001b[39;00m\n",
            "File \u001b[1;32mc:\\Users\\menia\\Desktop\\PortefolioML\\Sepsis\\venv\\Lib\\site-packages\\joblib\\parallel.py:1762\u001b[0m, in \u001b[0;36mParallel._retrieve\u001b[1;34m(self)\u001b[0m\n\u001b[0;32m   1757\u001b[0m \u001b[39m# If the next job is not ready for retrieval yet, we just wait for\u001b[39;00m\n\u001b[0;32m   1758\u001b[0m \u001b[39m# async callbacks to progress.\u001b[39;00m\n\u001b[0;32m   1759\u001b[0m \u001b[39mif\u001b[39;00m ((\u001b[39mlen\u001b[39m(\u001b[39mself\u001b[39m\u001b[39m.\u001b[39m_jobs) \u001b[39m==\u001b[39m \u001b[39m0\u001b[39m) \u001b[39mor\u001b[39;00m\n\u001b[0;32m   1760\u001b[0m     (\u001b[39mself\u001b[39m\u001b[39m.\u001b[39m_jobs[\u001b[39m0\u001b[39m]\u001b[39m.\u001b[39mget_status(\n\u001b[0;32m   1761\u001b[0m         timeout\u001b[39m=\u001b[39m\u001b[39mself\u001b[39m\u001b[39m.\u001b[39mtimeout) \u001b[39m==\u001b[39m TASK_PENDING)):\n\u001b[1;32m-> 1762\u001b[0m     time\u001b[39m.\u001b[39;49msleep(\u001b[39m0.01\u001b[39;49m)\n\u001b[0;32m   1763\u001b[0m     \u001b[39mcontinue\u001b[39;00m\n\u001b[0;32m   1765\u001b[0m \u001b[39m# We need to be careful: the job list can be filling up as\u001b[39;00m\n\u001b[0;32m   1766\u001b[0m \u001b[39m# we empty it and Python list are not thread-safe by\u001b[39;00m\n\u001b[0;32m   1767\u001b[0m \u001b[39m# default hence the use of the lock\u001b[39;00m\n",
            "\u001b[1;31mKeyboardInterrupt\u001b[0m: "
          ]
        }
      ],
      "source": [
        "# Balanced Random Forest\n",
        "# Import necessary libraries\n",
        "from sklearn.model_selection import StratifiedKFold, GridSearchCV, learning_curve\n",
        "from imblearn.ensemble import BalancedRandomForestClassifier\n",
        "from sklearn.metrics import accuracy_score, precision_score, recall_score, f1_score, confusion_matrix, roc_auc_score, make_scorer\n",
        "import numpy as np\n",
        "import pandas as pd\n",
        "import matplotlib.pyplot as plt\n",
        "\n",
        "# Load or define your DataFrame\n",
        "data_brf = first_df_imputed  # Replace 'first_df_imputed' with your actual DataFrame name\n",
        "\n",
        "# Define the target based on 'PCT' values\n",
        "data_brf['Label'] = np.where(data_brf['PCT'] > 2, 1, 0)\n",
        "\n",
        "# Select features excluding 'PCT' and 'Label'\n",
        "features = data_brf.columns.difference(['PCT', 'Label'])\n",
        "X = data_brf[features]\n",
        "y = data_brf['Label']\n",
        "\n",
        "# Setup cross-validation\n",
        "cv = StratifiedKFold(n_splits=5)\n",
        "\n",
        "# Define the parameter grid\n",
        "param_grid = {\n",
        "    'n_estimators': [100, 300, 500, 700, 900],\n",
        "    'max_depth': [None, 5, 10],\n",
        "    'max_leaf_nodes': [None, 20, 40, 60],\n",
        "    'min_samples_split': [2, 5, 10]\n",
        "}\n",
        "\n",
        "# Create a Balanced Random Forest model with specified parameters\n",
        "brf = BalancedRandomForestClassifier(random_state=1714400672, n_jobs=-1)\n",
        "\n",
        "# Setup GridSearchCV\n",
        "grid_search = GridSearchCV(brf, param_grid, cv=cv, scoring='roc_auc', n_jobs=-1, verbose=1)\n",
        "\n",
        "# Fit GridSearchCV\n",
        "grid_search.fit(X, y)\n",
        "\n",
        "# Best model from grid search\n",
        "best_model = grid_search.best_estimator_\n",
        "\n",
        "# Print best score and best parameters\n",
        "print(\"Best ROC AUC Score: \", grid_search.best_score_)\n",
        "print(\"Best parameters: \", grid_search.best_params_)\n",
        "\n",
        "# Perform detailed evaluation on the best model\n",
        "metrics = ['roc_auc', 'accuracy', 'precision', 'recall', 'f1']\n",
        "results = {metric: [] for metric in metrics}\n",
        "confusion_matrices = []\n",
        "\n",
        "for train_idx, test_idx in cv.split(X, y):\n",
        "    X_train, X_test = X.iloc[train_idx], X.iloc[test_idx]\n",
        "    y_train, y_test = y.iloc[train_idx], y.iloc[test_idx]\n",
        "\n",
        "    # Fit the model\n",
        "    best_model.fit(X_train, y_train)\n",
        "\n",
        "    # Predict outcomes\n",
        "    y_pred = best_model.predict(X_test)\n",
        "    y_pred_prob = best_model.predict_proba(X_test)[:, 1]\n",
        "\n",
        "    # Calculate metrics\n",
        "    results['roc_auc'].append(roc_auc_score(y_test, y_pred_prob))\n",
        "    results['accuracy'].append(accuracy_score(y_test, y_pred))\n",
        "    results['precision'].append(precision_score(y_test, y_pred))\n",
        "    results['recall'].append(recall_score(y_test, y_pred))\n",
        "    results['f1'].append(f1_score(y_test, y_pred))\n",
        "    confusion_matrices.append(confusion_matrix(y_test, y_pred))\n",
        "\n",
        "# Display results\n",
        "for metric, scores in results.items():\n",
        "    print(f\"{metric.capitalize()} Scores for each fold: \", scores)\n",
        "    print(f\"Mean {metric.capitalize()} Score: \", np.mean(scores))\n",
        "print(\"Confusion Matrices: \", confusion_matrices)\n",
        "\n",
        "# Define specific training sizes\n",
        "train_sizes = [10000, 15000, 20000, 25000, 30000, 35000, 40000, 45000, 50000]\n",
        "\n",
        "# Plot learning curves for the best model\n",
        "train_sizes, train_scores, test_scores = learning_curve(\n",
        "    best_model, X, y, cv=cv, scoring='roc_auc', n_jobs=-1,\n",
        "    train_sizes=train_sizes\n",
        ")\n",
        "\n",
        "train_scores_mean = np.mean(train_scores, axis=1)\n",
        "train_scores_std = np.std(train_scores, axis=1)\n",
        "test_scores_mean = np.mean(test_scores, axis=1)\n",
        "test_scores_std = np.std(test_scores, axis=1)\n",
        "\n",
        "plt.figure()\n",
        "plt.title(\"Learning Curves (Best Balanced Random Forest)\")\n",
        "plt.xlabel(\"Training examples\")\n",
        "plt.ylabel(\"ROC AUC Score\")\n",
        "plt.ylim((0.5, 1.01))\n",
        "plt.grid()\n",
        "\n",
        "plt.fill_between(train_sizes, train_scores_mean - train_scores_std,\n",
        "                 train_scores_mean + train_scores_std, alpha=0.1, color=\"r\")\n",
        "plt.fill_between(train_sizes, test_scores_mean - test_scores_std,\n",
        "                 test_scores_mean + test_scores_std, alpha=0.1, color=\"g\")\n",
        "plt.plot(train_sizes, train_scores_mean, 'o-', color=\"r\",\n",
        "         label=\"Training score\")\n",
        "plt.plot(train_sizes, test_scores_mean, 'o-', color=\"g\",\n",
        "         label=\"Cross-validation score\")\n",
        "\n",
        "plt.legend(loc=\"best\")\n",
        "plt.show()"
      ]
    },
    {
      "cell_type": "code",
      "execution_count": null,
      "metadata": {
        "id": "ieaNe9I0qcMb"
      },
      "outputs": [],
      "source": [
        "#xgboost\n",
        "# Import necessary libraries\n",
        "from sklearn.model_selection import StratifiedKFold, GridSearchCV, learning_curve\n",
        "import xgboost as xgb\n",
        "from sklearn.metrics import accuracy_score, precision_score, recall_score, f1_score, confusion_matrix, roc_auc_score, make_scorer\n",
        "import numpy as np\n",
        "import pandas as pd\n",
        "import matplotlib.pyplot as plt\n",
        "\n",
        "# Load or define your DataFrame\n",
        "data_xgb = first_df_imputed  # Assume this is your DataFrame with imputed values\n",
        "\n",
        "# Define the target based on 'PCT' values\n",
        "data_xgb['Label'] = np.where(data_xgb['PCT'] > 2, 1, 0)\n",
        "\n",
        "# Select features excluding 'PCT' and 'Label'\n",
        "features = data_xgb.columns.difference(['PCT', 'Label'])\n",
        "X = data_xgb[features]\n",
        "y = data_xgb['Label']\n",
        "\n",
        "# Calculate the scale_pos_weight for imbalanced dataset\n",
        "scale_pos_weight = len(y[y == 0]) / len(y[y == 1])\n",
        "\n",
        "# Setup cross-validation\n",
        "cv = StratifiedKFold(n_splits=5)\n",
        "\n",
        "# Define the parameter grid\n",
        "param_grid = {\n",
        "    'max_depth': [3, 5, 7, 9],\n",
        "    'n_estimators': [100, 300, 500, 700],\n",
        "    'learning_rate': [0.01, 0.1, 0.5, 1],\n",
        "    'scale_pos_weight': [scale_pos_weight, 1, 10]\n",
        "}\n",
        "\n",
        "# Create a XGBoost model with specified parameters\n",
        "xgb_model = xgb.XGBClassifier(\n",
        "    use_label_encoder=False,\n",
        "    eval_metric='logloss',\n",
        "    random_state=1714400672\n",
        ")\n",
        "\n",
        "# Setup GridSearchCV\n",
        "grid_search = GridSearchCV(xgb_model, param_grid, cv=cv, scoring='roc_auc', n_jobs=-1, verbose=1)\n",
        "\n",
        "# Fit GridSearchCV\n",
        "grid_search.fit(X, y)\n",
        "\n",
        "# Best model from grid search\n",
        "best_model = grid_search.best_estimator_\n",
        "\n",
        "# Print best score and best parameters\n",
        "print(\"Best ROC AUC Score: \", grid_search.best_score_)\n",
        "print(\"Best parameters: \", grid_search.best_params_)\n",
        "\n",
        "# Perform detailed evaluation on the best model\n",
        "metrics = ['roc_auc', 'accuracy', 'precision', 'recall', 'f1']\n",
        "results = {metric: [] for metric in metrics}\n",
        "confusion_matrices = []\n",
        "\n",
        "for train_idx, test_idx in cv.split(X, y):\n",
        "    X_train, X_test = X.iloc[train_idx], X.iloc[test_idx]\n",
        "    y_train, y_test = y.iloc[train_idx], y.iloc[test_idx]\n",
        "\n",
        "    # Fit the model\n",
        "    best_model.fit(X_train, y_train, eval_set=[(X_test, y_test)], verbose=False)\n",
        "\n",
        "    # Predict outcomes\n",
        "    y_pred = best_model.predict(X_test)\n",
        "    y_pred_prob = best_model.predict_proba(X_test)[:, 1]\n",
        "\n",
        "    # Calculate metrics\n",
        "    results['roc_auc'].append(roc_auc_score(y_test, y_pred_prob))\n",
        "    results['accuracy'].append(accuracy_score(y_test, y_pred))\n",
        "    results['precision'].append(precision_score(y_test, y_pred))\n",
        "    results['recall'].append(recall_score(y_test, y_pred))\n",
        "    results['f1'].append(f1_score(y_test, y_pred))\n",
        "    confusion_matrices.append(confusion_matrix(y_test, y_pred))\n",
        "\n",
        "# Display results\n",
        "for metric, scores in results.items():\n",
        "    print(f\"{metric.capitalize()} Scores for each fold: \", scores)\n",
        "    print(f\"Mean {metric.capitalize()} Score: \", np.mean(scores))\n",
        "print(\"Confusion Matrices: \", confusion_matrices)\n",
        "\n",
        "# Plot learning curves for the best model\n",
        "train_sizes = [10000, 15000, 20000, 25000, 30000, 35000, 40000, 45000, 50000]  # Adjust based on your dataset size\n",
        "train_sizes, train_scores, test_scores = learning_curve(\n",
        "    best_model, X, y, cv=cv, scoring='roc_auc', n_jobs=-1,\n",
        "    train_sizes=train_sizes\n",
        ")\n",
        "\n",
        "train_scores_mean = np.mean(train_scores, axis=1)\n",
        "train_scores_std = np.std(train_scores, axis=1)\n",
        "test_scores_mean = np.mean(test_scores, axis=1)\n",
        "test_scores_std = np.std(test_scores, axis=1)\n",
        "\n",
        "plt.figure()\n",
        "plt.title(\"Learning Curves (Best XGBoost Model)\")\n",
        "plt.xlabel(\"Training examples\")\n",
        "plt.ylabel(\"ROC AUC Score\")\n",
        "plt.ylim((0.5, 1.01))\n",
        "plt.grid()\n",
        "\n",
        "plt.fill_between(train_sizes, train_scores_mean - train_scores_std,\n",
        "                 train_scores_mean + train_scores_std, alpha=0.1, color=\"r\")\n",
        "plt.fill_between(train_sizes, test_scores_mean - test_scores_std,\n",
        "                 test_scores_mean + test_scores_std, alpha=0.1, color=\"g\")\n",
        "plt.plot(train_sizes, train_scores_mean, 'o-', color=\"r\",\n",
        "         label=\"Training score\")\n",
        "plt.plot(train_sizes, test_scores_mean, 'o-', color=\"g\",\n",
        "         label=\"Cross-validation score\")\n",
        "\n",
        "plt.legend(loc=\"best\")\n",
        "plt.show()"
      ]
    },
    {
      "cell_type": "code",
      "execution_count": null,
      "metadata": {
        "colab": {
          "background_save": true
        },
        "id": "4RiPpE43ZWiR"
      },
      "outputs": [],
      "source": [
        "#eVALUATE rusbOOST and SMOTE ALONE Then add hyperparameter tuning to both then explore ensemble learning and check overfitting for both"
      ]
    }
  ],
  "metadata": {
    "colab": {
      "provenance": []
    },
    "kernelspec": {
      "display_name": "Python 3",
      "name": "python3"
    },
    "language_info": {
      "codemirror_mode": {
        "name": "ipython",
        "version": 3
      },
      "file_extension": ".py",
      "mimetype": "text/x-python",
      "name": "python",
      "nbconvert_exporter": "python",
      "pygments_lexer": "ipython3",
      "version": "3.12.6"
    }
  },
  "nbformat": 4,
  "nbformat_minor": 0
}
