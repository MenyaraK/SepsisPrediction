{
  "cells": [
    {
      "cell_type": "code",
      "execution_count": 81,
      "metadata": {
        "id": "fF9FHEPcixhP"
      },
      "outputs": [],
      "source": [
        "#Importing the datset we have New dataset\n",
        "import pandas as pd\n",
        "import matplotlib.pyplot as plt\n",
        "import seaborn as sns\n",
        "import numpy as np\n",
        "\n",
        "filenames = [\n",
        "    \"../data/pct_data_2018.csv\",\n",
        "    \"../data/pct_data_2019.csv\",\n",
        "    \"../data/pct_data_2020.csv\",\n",
        "    \"../data/pct_data_2021.csv\",\n",
        "    \"../data/pct_data_2022.csv\",\n",
        "    \"../data/pct_data_2023.csv\",\n",
        "    \"../data/pct_data_2024.csv\"\n",
        "]\n",
        "\n",
        "# Read each file into a DF and store them in a list\n",
        "dataframes = [pd.read_csv (f, sep=';') for f in filenames]\n",
        "\n",
        "# Concatenate all dfs into a single df\n",
        "raw_data= pd.concat(dataframes, ignore_index=True)\n",
        "raw_dataset = raw_data"
      ]
    },
    {
      "cell_type": "code",
      "execution_count": 82,
      "metadata": {
        "colab": {
          "base_uri": "https://localhost:8080/"
        },
        "id": "QTTvMQq7mOEr",
        "outputId": "3b467358-0294-459e-fded-0b3f8efd42fc"
      },
      "outputs": [
        {
          "data": {
            "text/plain": [
              "(109897, 33)"
            ]
          },
          "execution_count": 82,
          "metadata": {},
          "output_type": "execute_result"
        }
      ],
      "source": [
        "raw_dataset.shape"
      ]
    },
    {
      "cell_type": "markdown",
      "metadata": {
        "id": "AGCQ4oRtIvtS"
      },
      "source": [
        "Eliminate I category"
      ]
    },
    {
      "cell_type": "code",
      "execution_count": 83,
      "metadata": {
        "colab": {
          "base_uri": "https://localhost:8080/"
        },
        "id": "LbT0tUwlGPp9",
        "outputId": "d9b3c205-35dc-476d-e0d9-f7983a021ffc"
      },
      "outputs": [
        {
          "data": {
            "text/plain": [
              "(109897, 34)"
            ]
          },
          "execution_count": 83,
          "metadata": {},
          "output_type": "execute_result"
        }
      ],
      "source": [
        "# Define a function that categorizes sepsis based on PCT values\n",
        "def categorize_sepsis(pct_value):\n",
        "    if pct_value > 2:\n",
        "        return 'P'  # Yes, sepsis likely\n",
        "    elif pct_value >= 0.1:\n",
        "        return 'I'  # Maybe, intermediate or gray area\n",
        "    else:\n",
        "        return 'N'  # No, sepsis unlikely\n",
        "\n",
        "# Apply this function to the 'PCT' column to create a new categorical column\n",
        "raw_dataset['sepsis_cat'] = raw_dataset['PCT'].apply(categorize_sepsis)\n",
        "\n",
        "# Insert the 'sepsis_cat' column before the 'PCT' column\n",
        "pct_index = raw_dataset.columns.get_loc('PCT')  # Find the index of 'PCT' column\n",
        "raw_dataset.insert(pct_index, 'sepsis_cat', raw_dataset.pop('sepsis_cat'))\n",
        "raw_dataset.shape"
      ]
    },
    {
      "cell_type": "code",
      "execution_count": 84,
      "metadata": {
        "colab": {
          "base_uri": "https://localhost:8080/"
        },
        "id": "u_-EvwdXGuHY",
        "outputId": "f332ee26-496d-45e1-d43e-65cc95a0f4ae"
      },
      "outputs": [
        {
          "name": "stdout",
          "output_type": "stream",
          "text": [
            "(69923, 34)\n",
            "(39974, 34)\n"
          ]
        }
      ],
      "source": [
        "# Data subsets for different sepsis categories\n",
        "pct_data_sepsis_yes = raw_dataset[raw_dataset['sepsis_cat'] == 'P']\n",
        "pct_data_sepsis_no = raw_dataset[raw_dataset['sepsis_cat'] == 'N']\n",
        "pct_data_sepsis_I = raw_dataset[raw_dataset['sepsis_cat'] == 'I']\n",
        "combined_data = pd.concat([pct_data_sepsis_yes, pct_data_sepsis_no], axis=0)\n",
        "print(combined_data.shape)\n",
        "print(pct_data_sepsis_I.shape)"
      ]
    },
    {
      "cell_type": "code",
      "execution_count": 85,
      "metadata": {
        "colab": {
          "base_uri": "https://localhost:8080/"
        },
        "id": "tKXbyFYvG0Dr",
        "outputId": "938124b5-295e-4bd2-fb2a-d7937b5de9c9"
      },
      "outputs": [
        {
          "data": {
            "text/plain": [
              "(69923, 34)"
            ]
          },
          "execution_count": 85,
          "metadata": {},
          "output_type": "execute_result"
        }
      ],
      "source": [
        "raw_dataset = combined_data\n",
        "raw_dataset.shape"
      ]
    },
    {
      "cell_type": "markdown",
      "metadata": {
        "id": "0BPNUJ2HIyry"
      },
      "source": [
        "Correction of sex labels"
      ]
    },
    {
      "cell_type": "code",
      "execution_count": 86,
      "metadata": {
        "colab": {
          "base_uri": "https://localhost:8080/"
        },
        "id": "a-aWdzOeIx_X",
        "outputId": "a4e69831-c270-47d0-f316-87ff9a8a00af"
      },
      "outputs": [
        {
          "name": "stdout",
          "output_type": "stream",
          "text": [
            "(68727, 34)\n",
            "(39010, 34)\n"
          ]
        }
      ],
      "source": [
        "# Filter the DataFrame to keep only rows where 'sex' is either 'M' or 'W'\n",
        "raw_dataset = raw_dataset[raw_dataset['sex'].isin(['m', 'f'])]\n",
        "pct_data_sepsis_I = pct_data_sepsis_I[pct_data_sepsis_I['sex'].isin(['m', 'f'])]\n",
        "print(raw_dataset.shape)\n",
        "print(pct_data_sepsis_I.shape)"
      ]
    },
    {
      "cell_type": "code",
      "execution_count": 87,
      "metadata": {
        "colab": {
          "base_uri": "https://localhost:8080/"
        },
        "id": "Z33ZUbTFG421",
        "outputId": "ea7b6422-22cd-41a3-e433-b8a409493498"
      },
      "outputs": [
        {
          "name": "stdout",
          "output_type": "stream",
          "text": [
            "(68727, 34)\n",
            "(39010, 34)\n"
          ]
        },
        {
          "name": "stderr",
          "output_type": "stream",
          "text": [
            "C:\\Users\\menia\\AppData\\Local\\Temp\\ipykernel_29072\\1315486616.py:2: SettingWithCopyWarning: \n",
            "A value is trying to be set on a copy of a slice from a DataFrame.\n",
            "Try using .loc[row_indexer,col_indexer] = value instead\n",
            "\n",
            "See the caveats in the documentation: https://pandas.pydata.org/pandas-docs/stable/user_guide/indexing.html#returning-a-view-versus-a-copy\n",
            "  raw_dataset['sex'] = raw_dataset['sex'].replace({'f': 'W', 'm': 'M'})\n"
          ]
        }
      ],
      "source": [
        "# Transform sex column: 'f' to 'W' and 'm' to 'M'\n",
        "raw_dataset['sex'] = raw_dataset['sex'].replace({'f': 'W', 'm': 'M'})\n",
        "pct_data_sepsis_I['sex'] = pct_data_sepsis_I['sex'].replace({'f': 'W', 'm': 'M'})\n",
        "print(raw_dataset.shape)\n",
        "print(pct_data_sepsis_I.shape)"
      ]
    },
    {
      "cell_type": "code",
      "execution_count": 88,
      "metadata": {
        "colab": {
          "base_uri": "https://localhost:8080/"
        },
        "id": "AMqfkMH7lQQD",
        "outputId": "91f933f5-766e-469d-b6f5-dcc66b10bcbe"
      },
      "outputs": [
        {
          "name": "stdout",
          "output_type": "stream",
          "text": [
            "(68727, 30)\n",
            "(39010, 30)\n"
          ]
        },
        {
          "name": "stderr",
          "output_type": "stream",
          "text": [
            "C:\\Users\\menia\\AppData\\Local\\Temp\\ipykernel_29072\\1842070725.py:2: SettingWithCopyWarning: \n",
            "A value is trying to be set on a copy of a slice from a DataFrame\n",
            "\n",
            "See the caveats in the documentation: https://pandas.pydata.org/pandas-docs/stable/user_guide/indexing.html#returning-a-view-versus-a-copy\n",
            "  raw_dataset.drop(columns=columns_to_drop, axis=1, inplace=True)\n"
          ]
        }
      ],
      "source": [
        "columns_to_drop = ['%h-ERY', 'NOR-Ge', 'XNRBC', 'Unnamed: 0']\n",
        "raw_dataset.drop(columns=columns_to_drop, axis=1, inplace=True)\n",
        "pct_data_sepsis_I.drop(columns=columns_to_drop, axis=1, inplace=True)\n",
        "print(raw_dataset.shape)\n",
        "print(pct_data_sepsis_I.shape)"
      ]
    },
    {
      "cell_type": "code",
      "execution_count": 89,
      "metadata": {
        "colab": {
          "base_uri": "https://localhost:8080/"
        },
        "id": "PI_N2fttmtYj",
        "outputId": "1c7584e5-7dee-424c-f348-eb9e1a920990"
      },
      "outputs": [
        {
          "name": "stdout",
          "output_type": "stream",
          "text": [
            "(68727, 30)\n",
            "(39010, 30)\n"
          ]
        },
        {
          "name": "stderr",
          "output_type": "stream",
          "text": [
            "C:\\Users\\menia\\AppData\\Local\\Temp\\ipykernel_29072\\1461858049.py:2: SettingWithCopyWarning: \n",
            "A value is trying to be set on a copy of a slice from a DataFrame.\n",
            "Try using .loc[row_indexer,col_indexer] = value instead\n",
            "\n",
            "See the caveats in the documentation: https://pandas.pydata.org/pandas-docs/stable/user_guide/indexing.html#returning-a-view-versus-a-copy\n",
            "  raw_dataset['age'] = current_year - raw_dataset['year_of_birth']\n",
            "C:\\Users\\menia\\AppData\\Local\\Temp\\ipykernel_29072\\1461858049.py:4: SettingWithCopyWarning: \n",
            "A value is trying to be set on a copy of a slice from a DataFrame\n",
            "\n",
            "See the caveats in the documentation: https://pandas.pydata.org/pandas-docs/stable/user_guide/indexing.html#returning-a-view-versus-a-copy\n",
            "  raw_dataset.drop('year_of_birth', axis=1, inplace=True)\n"
          ]
        }
      ],
      "source": [
        "current_year = 2024\n",
        "raw_dataset['age'] = current_year - raw_dataset['year_of_birth']\n",
        "# Drop the 'year_of_birth' column without reassigning clean_data\n",
        "raw_dataset.drop('year_of_birth', axis=1, inplace=True)\n",
        "\n",
        "pct_data_sepsis_I['age'] = current_year - pct_data_sepsis_I['year_of_birth']\n",
        "# Drop the 'year_of_birth' column without reassigning clean_data\n",
        "pct_data_sepsis_I.drop('year_of_birth', axis=1, inplace=True)\n",
        "\n",
        "print(raw_dataset.shape)\n",
        "print(pct_data_sepsis_I.shape)"
      ]
    },
    {
      "cell_type": "code",
      "execution_count": 90,
      "metadata": {
        "colab": {
          "base_uri": "https://localhost:8080/"
        },
        "id": "qjLGviaCnEQj",
        "outputId": "c7b84084-b8c6-4d6c-924a-78b8b16109eb"
      },
      "outputs": [
        {
          "name": "stdout",
          "output_type": "stream",
          "text": [
            "Count of null or negative values in 'age' column: 2\n",
            "Count of null or negative values in 'age' column: 1\n"
          ]
        }
      ],
      "source": [
        "count_null_or_negative = (raw_dataset['age'].isna() | (raw_dataset['age'] <= 0)).sum()\n",
        "count_null_or_negativeI = (pct_data_sepsis_I['age'].isna() | (pct_data_sepsis_I['age'] <= 0)).sum()\n",
        "\n",
        "print(\"Count of null or negative values in 'age' column:\", count_null_or_negative)\n",
        "print(\"Count of null or negative values in 'age' column:\", count_null_or_negativeI)"
      ]
    },
    {
      "cell_type": "code",
      "execution_count": 91,
      "metadata": {
        "id": "DP5Z3FR6Ma26"
      },
      "outputs": [],
      "source": [
        "filtered_df = raw_dataset"
      ]
    },
    {
      "cell_type": "code",
      "execution_count": 92,
      "metadata": {
        "id": "P1Ip1TM-bN8q"
      },
      "outputs": [],
      "source": [
        "# Remove rows where the 'age' column has null values\n",
        "filtered_df = filtered_df.dropna(subset=['age'])\n",
        "pct_data_sepsis_I = pct_data_sepsis_I.dropna(subset=['age'])"
      ]
    },
    {
      "cell_type": "code",
      "execution_count": 93,
      "metadata": {
        "colab": {
          "base_uri": "https://localhost:8080/"
        },
        "id": "7YspLDAjm-cL",
        "outputId": "f02cd93d-3683-4101-d0e7-fa773fd6c598"
      },
      "outputs": [
        {
          "name": "stdout",
          "output_type": "stream",
          "text": [
            "order_number    0\n",
            "sex             0\n",
            "sepsis_cat      0\n",
            "PCT             0\n",
            "IL6             0\n",
            "HK              0\n",
            "LYMABS          0\n",
            "THROMB          0\n",
            "MONOZY          0\n",
            "HB              0\n",
            "GRANAB          0\n",
            "MPV             0\n",
            "RDW-SD          0\n",
            "MicroE          0\n",
            "MCHC            0\n",
            "LYMPHO          0\n",
            "IG%             0\n",
            "IG#             0\n",
            "ERY             0\n",
            "EOSABS          0\n",
            "MakroE          0\n",
            "MCH             0\n",
            "GRANUL          0\n",
            "EOSINO          0\n",
            "LEUKO           0\n",
            "BASOAB          0\n",
            "MCV             0\n",
            "MONABS          0\n",
            "BASOPH          0\n",
            "age             0\n",
            "dtype: int64\n",
            "order_number    0\n",
            "sex             0\n",
            "sepsis_cat      0\n",
            "PCT             0\n",
            "IL6             0\n",
            "HK              0\n",
            "LYMABS          0\n",
            "THROMB          0\n",
            "MONOZY          0\n",
            "HB              0\n",
            "GRANAB          0\n",
            "MPV             0\n",
            "RDW-SD          0\n",
            "MicroE          0\n",
            "MCHC            0\n",
            "LYMPHO          0\n",
            "IG%             0\n",
            "IG#             0\n",
            "ERY             0\n",
            "EOSABS          0\n",
            "MakroE          0\n",
            "MCH             0\n",
            "GRANUL          0\n",
            "EOSINO          0\n",
            "LEUKO           0\n",
            "BASOAB          0\n",
            "MCV             0\n",
            "MONABS          0\n",
            "BASOPH          0\n",
            "age             0\n",
            "dtype: int64\n"
          ]
        }
      ],
      "source": [
        "# Calculate the count of null values in each column\n",
        "null_counts = filtered_df.isnull().sum()\n",
        "null_countsI = pct_data_sepsis_I.isnull().sum()\n",
        "\n",
        "# Print the count of null values for each column\n",
        "print(null_counts)\n",
        "print(null_countsI)\n"
      ]
    },
    {
      "cell_type": "code",
      "execution_count": 94,
      "metadata": {
        "colab": {
          "base_uri": "https://localhost:8080/"
        },
        "id": "ruPs1uM5bUpw",
        "outputId": "f067a9e1-7ee6-43fe-a6b1-22cc5fb5555f"
      },
      "outputs": [
        {
          "name": "stdout",
          "output_type": "stream",
          "text": [
            "(68725, 30)\n",
            "(39009, 30)\n"
          ]
        }
      ],
      "source": [
        "print(filtered_df.shape)\n",
        "print(pct_data_sepsis_I.shape)"
      ]
    },
    {
      "cell_type": "code",
      "execution_count": 95,
      "metadata": {
        "colab": {
          "base_uri": "https://localhost:8080/"
        },
        "id": "IOhVMIFCnz2-",
        "outputId": "9a379fcf-cd2b-49e0-d626-8be343a7bb37"
      },
      "outputs": [
        {
          "name": "stdout",
          "output_type": "stream",
          "text": [
            "order_number        0\n",
            "sex                 0\n",
            "sepsis_cat          0\n",
            "PCT              1645\n",
            "IL6             52524\n",
            "HK               1712\n",
            "LYMABS          19363\n",
            "THROMB           1722\n",
            "MONOZY          19379\n",
            "HB               1712\n",
            "GRANAB          19370\n",
            "MPV             29770\n",
            "RDW-SD          29187\n",
            "MicroE           2256\n",
            "MCHC             1713\n",
            "LYMPHO          19364\n",
            "IG%             18411\n",
            "IG#             47663\n",
            "ERY              1712\n",
            "EOSABS          24072\n",
            "MakroE           2246\n",
            "MCH              1712\n",
            "GRANUL          19370\n",
            "EOSINO          24277\n",
            "LEUKO            1735\n",
            "BASOAB          20301\n",
            "MCV              1712\n",
            "MONABS          19380\n",
            "BASOPH          20337\n",
            "age                 0\n",
            "dtype: int64\n",
            "order_number        0\n",
            "sex                 0\n",
            "sepsis_cat          0\n",
            "PCT                 0\n",
            "IL6             22946\n",
            "HK                944\n",
            "LYMABS          16612\n",
            "THROMB            947\n",
            "MONOZY          16641\n",
            "HB                944\n",
            "GRANAB          16632\n",
            "MPV             17789\n",
            "RDW-SD          17263\n",
            "MicroE           1365\n",
            "MCHC              944\n",
            "LYMPHO          16612\n",
            "IG%             15827\n",
            "IG#             22853\n",
            "ERY               944\n",
            "EOSABS          21052\n",
            "MakroE           1362\n",
            "MCH               944\n",
            "GRANUL          16632\n",
            "EOSINO          21311\n",
            "LEUKO             947\n",
            "BASOAB          17609\n",
            "MCV               944\n",
            "MONABS          16642\n",
            "BASOPH          17669\n",
            "age                 0\n",
            "dtype: int64\n"
          ]
        }
      ],
      "source": [
        "#Counting minus 1 on all columns:\n",
        "counts_minus_one = (filtered_df == -1).sum()\n",
        "\n",
        "# Display the count for each column\n",
        "print(counts_minus_one)\n",
        "\n",
        "#Counting minus 1 on all columns:\n",
        "counts_minus_oneI = (pct_data_sepsis_I == -1).sum()\n",
        "\n",
        "# Display the count for each column\n",
        "print(counts_minus_oneI)"
      ]
    },
    {
      "cell_type": "code",
      "execution_count": 96,
      "metadata": {
        "colab": {
          "base_uri": "https://localhost:8080/"
        },
        "id": "awit2XFhnDZn",
        "outputId": "b59dfcfb-2099-40d2-cd32-8426ef6adfcd"
      },
      "outputs": [
        {
          "name": "stdout",
          "output_type": "stream",
          "text": [
            "order_number     0.000000\n",
            "sex              0.000000\n",
            "sepsis_cat       0.000000\n",
            "PCT              2.393598\n",
            "IL6             76.426337\n",
            "HK               2.491088\n",
            "LYMABS          28.174609\n",
            "THROMB           2.505638\n",
            "MONOZY          28.197890\n",
            "HB               2.491088\n",
            "GRANAB          28.184794\n",
            "MPV             43.317570\n",
            "RDW-SD          42.469262\n",
            "MicroE           3.282648\n",
            "MCHC             2.492543\n",
            "LYMPHO          28.176064\n",
            "IG%             26.789378\n",
            "IG#             69.353219\n",
            "ERY              2.491088\n",
            "EOSABS          35.026555\n",
            "MakroE           3.268097\n",
            "MCH              2.491088\n",
            "GRANUL          28.184794\n",
            "EOSINO          35.324845\n",
            "LEUKO            2.524554\n",
            "BASOAB          29.539469\n",
            "MCV              2.491088\n",
            "MONABS          28.199345\n",
            "BASOPH          29.591852\n",
            "age              0.000000\n",
            "dtype: float64\n",
            "order_number     0.000000\n",
            "sex              0.000000\n",
            "sepsis_cat       0.000000\n",
            "PCT              0.000000\n",
            "IL6             58.822323\n",
            "HK               2.419954\n",
            "LYMABS          42.585044\n",
            "THROMB           2.427645\n",
            "MONOZY          42.659386\n",
            "HB               2.419954\n",
            "GRANAB          42.636315\n",
            "MPV             45.602297\n",
            "RDW-SD          44.253890\n",
            "MicroE           3.499192\n",
            "MCHC             2.419954\n",
            "LYMPHO          42.585044\n",
            "IG%             40.572688\n",
            "IG#             58.583917\n",
            "ERY              2.419954\n",
            "EOSABS          53.967033\n",
            "MakroE           3.491502\n",
            "MCH              2.419954\n",
            "GRANUL          42.636315\n",
            "EOSINO          54.630983\n",
            "LEUKO            2.427645\n",
            "BASOAB          45.140865\n",
            "MCV              2.419954\n",
            "MONABS          42.661950\n",
            "BASOPH          45.294676\n",
            "age              0.000000\n",
            "dtype: float64\n"
          ]
        }
      ],
      "source": [
        "# Calculate the percentage of '-1' values for each column\n",
        "percentage_minus_one = (counts_minus_one / filtered_df.shape[0]) * 100\n",
        "percentage_minus_oneI = (counts_minus_oneI / pct_data_sepsis_I.shape[0]) * 100\n",
        "\n",
        "# Display the percentage for each column\n",
        "print(percentage_minus_one)\n",
        "print(percentage_minus_oneI)\n"
      ]
    },
    {
      "cell_type": "code",
      "execution_count": 97,
      "metadata": {
        "colab": {
          "base_uri": "https://localhost:8080/",
          "height": 807
        },
        "id": "Is_rcHGVnEA9",
        "outputId": "37b35082-9a1e-458e-fa3e-d0cb8168d1a9"
      },
      "outputs": [
        {
          "data": {
            "image/png": "[encoded data removed]",
            "text/plain": [
              "<Figure size 1500x800 with 1 Axes>"
            ]
          },
          "metadata": {},
          "output_type": "display_data"
        }
      ],
      "source": [
        "import matplotlib.pyplot as plt\n",
        "import pandas as pd\n",
        "\n",
        "# New dataset with updated values\n",
        "percentage_minus_one = pd.Series({\n",
        "    'sex': 0.000000,\n",
        "    'sepsis_cat': 0.000000,\n",
        "    'PCT': 2.393598,\n",
        "    'IL6': 76.426337,\n",
        "    'HK': 2.491088,\n",
        "    'LYMABS': 28.174609,\n",
        "    'THROMB': 2.505638,\n",
        "    'MONOZY': 28.197890,\n",
        "    'HB': 2.491088,\n",
        "    'GRANAB': 28.184794,\n",
        "    'MPV': 43.317570,\n",
        "    'RDW-SD': 42.469262,\n",
        "    'MicroE': 3.282648,\n",
        "    'MCHC': 2.492543,\n",
        "    'LYMPHO': 28.176064,\n",
        "    'IG%': 26.789378,\n",
        "    'IG#': 69.353219,\n",
        "    'ERY': 2.491088,\n",
        "    'EOSABS': 35.026555,\n",
        "    'MakroE': 3.268097,\n",
        "    'MCH': 2.491088,\n",
        "    'GRANUL': 28.184794,\n",
        "    'EOSINO': 35.324845,\n",
        "    'LEUKO': 2.524554,\n",
        "    'BASOAB': 29.539469,\n",
        "    'MCV': 2.491088,\n",
        "    'MONABS': 28.199345,\n",
        "    'BASOPH': 29.591852,\n",
        "    'age': 0.000000\n",
        "})\n",
        "\n",
        "\n",
        "# Create a bar chart\n",
        "plt.figure(figsize=(15, 8))  # Adjusted the figure size for better visibility\n",
        "plt.bar(percentage_minus_one.index, percentage_minus_one.values, color='green')\n",
        "plt.xlabel('Features')\n",
        "plt.ylabel('Percentage of \\'-1\\' Values (%)')\n",
        "plt.title('Percentage of \\'-1\\' Values by Features')\n",
        "# Add a horizontal line at 60%\n",
        "plt.axhline(y=50, color='r', linestyle='-', linewidth=2)  # red line, solid, width of 2\n",
        "plt.xticks(rotation=90)  # Rotates the test parameter names for better visibility\n",
        "plt.tight_layout()  # Adjusts subplot params so that the subplot(s) fits in to the figure area.\n",
        "plt.show()\n"
      ]
    },
    {
      "cell_type": "code",
      "execution_count": 98,
      "metadata": {
        "colab": {
          "base_uri": "https://localhost:8080/"
        },
        "id": "LNDK8HQWnOXd",
        "outputId": "000eb74e-b3a6-4646-a3b2-d16031738815"
      },
      "outputs": [
        {
          "name": "stderr",
          "output_type": "stream",
          "text": [
            "C:\\Users\\menia\\AppData\\Local\\Temp\\ipykernel_29072\\186374524.py:2: SettingWithCopyWarning: \n",
            "A value is trying to be set on a copy of a slice from a DataFrame\n",
            "\n",
            "See the caveats in the documentation: https://pandas.pydata.org/pandas-docs/stable/user_guide/indexing.html#returning-a-view-versus-a-copy\n",
            "  filtered_df.drop(columns=columns_to_drop, axis=1, inplace=True)\n"
          ]
        }
      ],
      "source": [
        "columns_to_drop =['IG#', 'IL6']\n",
        "filtered_df.drop(columns=columns_to_drop, axis=1, inplace=True)\n",
        "pct_data_sepsis_I.drop(columns=columns_to_drop, axis=1, inplace=True)"
      ]
    },
    {
      "cell_type": "code",
      "execution_count": 99,
      "metadata": {
        "colab": {
          "base_uri": "https://localhost:8080/"
        },
        "id": "GCJmCRmEdNep",
        "outputId": "d546e591-5f24-408c-e0ed-1bc6f0e6fd11"
      },
      "outputs": [
        {
          "name": "stdout",
          "output_type": "stream",
          "text": [
            "(68725, 28)\n",
            "(39009, 28)\n"
          ]
        }
      ],
      "source": [
        "print(filtered_df.shape)\n",
        "print(pct_data_sepsis_I.shape)"
      ]
    },
    {
      "cell_type": "markdown",
      "metadata": {
        "id": "1lhQwJ42dMzE"
      },
      "source": []
    },
    {
      "cell_type": "code",
      "execution_count": 100,
      "metadata": {
        "id": "bmAzcPasn_J-"
      },
      "outputs": [],
      "source": [
        "#Filter out rows where PCT == -1\n",
        "filtered_df = filtered_df[filtered_df['PCT'] != -1]\n",
        "pct_data_sepsis_I = pct_data_sepsis_I[pct_data_sepsis_I['PCT'] != -1]"
      ]
    },
    {
      "cell_type": "code",
      "execution_count": 101,
      "metadata": {
        "colab": {
          "base_uri": "https://localhost:8080/"
        },
        "id": "wgZjL47NoCBh",
        "outputId": "50d0a04b-e0df-4ac1-fbe0-46f279af04f7"
      },
      "outputs": [
        {
          "name": "stdout",
          "output_type": "stream",
          "text": [
            "(67080, 28)\n",
            "(39009, 28)\n"
          ]
        }
      ],
      "source": [
        "print(filtered_df.shape)\n",
        "print(pct_data_sepsis_I.shape)"
      ]
    },
    {
      "cell_type": "code",
      "execution_count": 102,
      "metadata": {
        "colab": {
          "base_uri": "https://localhost:8080/"
        },
        "id": "7pUzRLOcnaYM",
        "outputId": "3ae89967-2ca8-4fe4-f606-24f610af0d68"
      },
      "outputs": [
        {
          "name": "stdout",
          "output_type": "stream",
          "text": [
            "order_number        0\n",
            "sex                 0\n",
            "sepsis_cat          0\n",
            "PCT                 0\n",
            "HK               1110\n",
            "LYMABS          18457\n",
            "THROMB           1119\n",
            "MONOZY          18472\n",
            "HB               1110\n",
            "GRANAB          18464\n",
            "MPV             28558\n",
            "RDW-SD          27989\n",
            "MicroE           1639\n",
            "MCHC             1110\n",
            "LYMPHO          18458\n",
            "IG%             17534\n",
            "ERY              1110\n",
            "EOSABS          23084\n",
            "MakroE           1629\n",
            "MCH              1110\n",
            "GRANUL          18464\n",
            "EOSINO          23283\n",
            "LEUKO            1132\n",
            "BASOAB          19373\n",
            "MCV              1110\n",
            "MONABS          18473\n",
            "BASOPH          19408\n",
            "age                 0\n",
            "dtype: int64\n",
            "order_number        0\n",
            "sex                 0\n",
            "sepsis_cat          0\n",
            "PCT                 0\n",
            "HK                944\n",
            "LYMABS          16612\n",
            "THROMB            947\n",
            "MONOZY          16641\n",
            "HB                944\n",
            "GRANAB          16632\n",
            "MPV             17789\n",
            "RDW-SD          17263\n",
            "MicroE           1365\n",
            "MCHC              944\n",
            "LYMPHO          16612\n",
            "IG%             15827\n",
            "ERY               944\n",
            "EOSABS          21052\n",
            "MakroE           1362\n",
            "MCH               944\n",
            "GRANUL          16632\n",
            "EOSINO          21311\n",
            "LEUKO             947\n",
            "BASOAB          17609\n",
            "MCV               944\n",
            "MONABS          16642\n",
            "BASOPH          17669\n",
            "age                 0\n",
            "dtype: int64\n"
          ]
        }
      ],
      "source": [
        "#Counting minus 1 on all columns:\n",
        "counts_minus_one = (filtered_df == -1).sum()\n",
        "\n",
        "# Display the count for each column\n",
        "print(counts_minus_one)\n",
        "\n",
        "#Counting minus 1 on all columns:\n",
        "counts_minus_oneI = (pct_data_sepsis_I == -1).sum()\n",
        "\n",
        "# Display the count for each column\n",
        "print(counts_minus_oneI)"
      ]
    },
    {
      "cell_type": "code",
      "execution_count": 103,
      "metadata": {
        "colab": {
          "base_uri": "https://localhost:8080/"
        },
        "id": "sYFY2ExqoMbr",
        "outputId": "d793f5bc-b3e9-4a61-d902-129421a92687"
      },
      "outputs": [
        {
          "name": "stdout",
          "output_type": "stream",
          "text": [
            "order_number        0\n",
            "sex                 0\n",
            "sepsis_cat          0\n",
            "PCT                 0\n",
            "HK               1110\n",
            "LYMABS          18457\n",
            "THROMB           1119\n",
            "MONOZY          18472\n",
            "HB               1110\n",
            "GRANAB          18464\n",
            "MPV             28558\n",
            "RDW-SD          27989\n",
            "MicroE           1639\n",
            "MCHC             1110\n",
            "LYMPHO          18458\n",
            "IG%             17534\n",
            "ERY              1110\n",
            "EOSABS          23084\n",
            "MakroE           1629\n",
            "MCH              1110\n",
            "GRANUL          18464\n",
            "EOSINO          23283\n",
            "LEUKO            1132\n",
            "BASOAB          19373\n",
            "MCV              1110\n",
            "MONABS          18473\n",
            "BASOPH          19408\n",
            "age                 0\n",
            "dtype: int64\n",
            "order_number        0\n",
            "sex                 0\n",
            "sepsis_cat          0\n",
            "PCT                 0\n",
            "HK                944\n",
            "LYMABS          16612\n",
            "THROMB            947\n",
            "MONOZY          16641\n",
            "HB                944\n",
            "GRANAB          16632\n",
            "MPV             17789\n",
            "RDW-SD          17263\n",
            "MicroE           1365\n",
            "MCHC              944\n",
            "LYMPHO          16612\n",
            "IG%             15827\n",
            "ERY               944\n",
            "EOSABS          21052\n",
            "MakroE           1362\n",
            "MCH               944\n",
            "GRANUL          16632\n",
            "EOSINO          21311\n",
            "LEUKO             947\n",
            "BASOAB          17609\n",
            "MCV               944\n",
            "MONABS          16642\n",
            "BASOPH          17669\n",
            "age                 0\n",
            "dtype: int64\n"
          ]
        }
      ],
      "source": [
        "# Replace -1 values with NaN\n",
        "filtered_df.replace(-1, pd.NA, inplace=True)\n",
        "pct_data_sepsis_I.replace(-1, pd.NA, inplace=True)\n",
        "\n",
        "# Counting minus 1 on all columns (this will now count NaN instead of -1)\n",
        "counts_minus_one = filtered_df.isna().sum()\n",
        "counts_minus_oneI = pct_data_sepsis_I.isna().sum()\n",
        "\n",
        "# Display the count for each column\n",
        "print(counts_minus_one)\n",
        "print(counts_minus_oneI)\n"
      ]
    },
    {
      "cell_type": "code",
      "execution_count": 104,
      "metadata": {
        "colab": {
          "base_uri": "https://localhost:8080/"
        },
        "id": "YqHpOrVlobEb",
        "outputId": "5ad4011b-0861-42c8-e084-83004f7eae11"
      },
      "outputs": [
        {
          "name": "stdout",
          "output_type": "stream",
          "text": [
            "(67080, 28)\n",
            "(39009, 28)\n"
          ]
        }
      ],
      "source": [
        "print(filtered_df.shape)\n",
        "print(pct_data_sepsis_I.shape)"
      ]
    },
    {
      "cell_type": "code",
      "execution_count": 105,
      "metadata": {
        "colab": {
          "base_uri": "https://localhost:8080/"
        },
        "id": "HfWip3K5o1MV",
        "outputId": "8ce0c80d-4923-4087-db2b-18dbe60d6f8a"
      },
      "outputs": [
        {
          "name": "stdout",
          "output_type": "stream",
          "text": [
            "Index(['order_number', 'sex', 'sepsis_cat', 'PCT', 'HK', 'LYMABS', 'THROMB',\n",
            "       'MONOZY', 'HB', 'GRANAB', 'MPV', 'RDW-SD', 'MicroE', 'MCHC', 'LYMPHO',\n",
            "       'IG%', 'ERY', 'EOSABS', 'MakroE', 'MCH', 'GRANUL', 'EOSINO', 'LEUKO',\n",
            "       'BASOAB', 'MCV', 'MONABS', 'BASOPH', 'age'],\n",
            "      dtype='object')\n",
            "Index(['order_number', 'sex', 'sepsis_cat', 'PCT', 'HK', 'LYMABS', 'THROMB',\n",
            "       'MONOZY', 'HB', 'GRANAB', 'MPV', 'RDW-SD', 'MicroE', 'MCHC', 'LYMPHO',\n",
            "       'IG%', 'ERY', 'EOSABS', 'MakroE', 'MCH', 'GRANUL', 'EOSINO', 'LEUKO',\n",
            "       'BASOAB', 'MCV', 'MONABS', 'BASOPH', 'age'],\n",
            "      dtype='object')\n"
          ]
        }
      ],
      "source": [
        "print(filtered_df.columns)\n",
        "print(pct_data_sepsis_I.columns)"
      ]
    },
    {
      "cell_type": "code",
      "execution_count": 106,
      "metadata": {},
      "outputs": [],
      "source": [
        "#first dataset"
      ]
    },
    {
      "cell_type": "code",
      "execution_count": 107,
      "metadata": {},
      "outputs": [
        {
          "name": "stdout",
          "output_type": "stream",
          "text": [
            "     age sex    HB    MCV THROMB   ERY LEUKO    PCT\n",
            "6   60.0   M  10.0   93.4     48  3.18  10.8   2.34\n",
            "12  90.0   M  11.6   90.2    104  3.68   6.6   6.54\n",
            "13  80.0   M  11.2   93.5    434  3.72  14.5   5.22\n",
            "15  55.0   M  11.5  101.8    144  3.37   6.5   3.33\n",
            "25  68.0   W   9.2   89.9    303  3.06  11.3  36.60\n"
          ]
        }
      ],
      "source": [
        "# Select specific columns\n",
        "selected_columns = [\n",
        "    'age', 'sex', 'HB', 'MCV', 'THROMB', 'ERY', 'LEUKO', 'PCT']\n",
        "\n",
        "# Creating a new DataFrame with only the selected columns\n",
        "first_df = filtered_df[selected_columns]\n",
        "\n",
        "# Display the new DataFrame\n",
        "print(first_df.head())"
      ]
    },
    {
      "cell_type": "code",
      "execution_count": 108,
      "metadata": {},
      "outputs": [
        {
          "name": "stderr",
          "output_type": "stream",
          "text": [
            "C:\\Users\\menia\\AppData\\Local\\Temp\\ipykernel_29072\\3520176608.py:9: FutureWarning: Downcasting behavior in `replace` is deprecated and will be removed in a future version. To retain the old behavior, explicitly call `result.infer_objects(copy=False)`. To opt-in to the future behavior, set `pd.set_option('future.no_silent_downcasting', True)`\n",
            "  first_df = first_df.replace({pd.NA: np.nan})\n",
            "c:\\Users\\menia\\Desktop\\PortefolioML\\Sepsis\\venv\\Lib\\site-packages\\sklearn\\impute\\_iterative.py:825: ConvergenceWarning: [IterativeImputer] Early stopping criterion not reached.\n",
            "  warnings.warn(\n"
          ]
        }
      ],
      "source": [
        "#KNN\n",
        "import numpy as np\n",
        "import pandas as pd\n",
        "from sklearn.neighbors import KNeighborsRegressor\n",
        "from sklearn.experimental import enable_iterative_imputer\n",
        "from sklearn.impute import IterativeImputer\n",
        "\n",
        "# Convert pd.NA to np.nan\n",
        "first_df = first_df.replace({pd.NA: np.nan})\n",
        "\n",
        "# One-hot encode the 'sex' column\n",
        "# One-hot encode the 'sex' column and drop the first category\n",
        "first_df = pd.get_dummies(first_df, columns=['sex'], drop_first=True)\n",
        "# Step 3: Setup the Iterative Imputer with a KNN estimator\n",
        "# You can adjust the number of neighbors (`n_neighbors`) as needed\n",
        "imputer = IterativeImputer(estimator=KNeighborsRegressor(n_neighbors=5), max_iter=10, random_state=0)\n",
        "\n",
        "# Step 4: Fit and transform the data\n",
        "# This will fill in all missing values in the dataframe\n",
        "first_df_imputed = pd.DataFrame(imputer.fit_transform(first_df), columns=first_df.columns)"
      ]
    },
    {
      "cell_type": "code",
      "execution_count": 109,
      "metadata": {},
      "outputs": [
        {
          "name": "stdout",
          "output_type": "stream",
          "text": [
            "auc_scores [0.9126909462963955, 0.917693949147534, 0.917989420940565, 0.9157244126343845, 0.9198356083607838]\n",
            "Mean auc_scores: 0.9167868674759326\n",
            "accuracy_scores [0.810077519379845, 0.8571109123434705, 0.865757304710793, 0.864788312462731, 0.8559928443649374]\n",
            "Mean accuracy_scores: 0.8507453786523553\n",
            "precision_scores [0.4515033947623666, 0.5347786811201445, 0.5559858018715714, 0.5544328552803129, 0.5318208603417797]\n",
            "Mean precision_scores: 0.525704318675235\n",
            "recall_scores [0.866852886405959, 0.8268156424581006, 0.8021415270018621, 0.7918994413407822, 0.840316573556797]\n",
            "Mean recall_scores: 0.8256052141527002\n",
            "f1_scores [0.59375, 0.6494788809654416, 0.656756241661902, 0.6522239263803681, 0.651389390111873]\n",
            "Mean f1_scores: 0.640719687823917\n",
            "confusion_matrices [[48201  8139]\n",
            " [ 1873  8867]]\n"
          ]
        },
        {
          "name": "stderr",
          "output_type": "stream",
          "text": [
            "c:\\Users\\menia\\Desktop\\PortefolioML\\Sepsis\\venv\\Lib\\site-packages\\sklearn\\model_selection\\_validation.py:540: FitFailedWarning: \n",
            "5 fits failed out of a total of 50.\n",
            "The score on these train-test partitions for these parameters will be set to nan.\n",
            "If these failures are not expected, you can try to debug them by setting error_score='raise'.\n",
            "\n",
            "Below are more details about the failures:\n",
            "--------------------------------------------------------------------------------\n",
            "5 fits failed with the following error:\n",
            "Traceback (most recent call last):\n",
            "  File \"c:\\Users\\menia\\Desktop\\PortefolioML\\Sepsis\\venv\\Lib\\site-packages\\sklearn\\model_selection\\_validation.py\", line 888, in _fit_and_score\n",
            "    estimator.fit(X_train, y_train, **fit_params)\n",
            "  File \"c:\\Users\\menia\\Desktop\\PortefolioML\\Sepsis\\venv\\Lib\\site-packages\\sklearn\\base.py\", line 1473, in wrapper\n",
            "    return fit_method(estimator, *args, **kwargs)\n",
            "           ^^^^^^^^^^^^^^^^^^^^^^^^^^^^^^^^^^^^^^\n",
            "  File \"c:\\Users\\menia\\Desktop\\PortefolioML\\Sepsis\\venv\\Lib\\site-packages\\imblearn\\ensemble\\_weight_boosting.py\", line 230, in fit\n",
            "    super().fit(X, y, sample_weight)\n",
            "  File \"c:\\Users\\menia\\Desktop\\PortefolioML\\Sepsis\\venv\\Lib\\site-packages\\sklearn\\base.py\", line 1473, in wrapper\n",
            "    return fit_method(estimator, *args, **kwargs)\n",
            "           ^^^^^^^^^^^^^^^^^^^^^^^^^^^^^^^^^^^^^^\n",
            "  File \"c:\\Users\\menia\\Desktop\\PortefolioML\\Sepsis\\venv\\Lib\\site-packages\\sklearn\\ensemble\\_weight_boosting.py\", line 169, in fit\n",
            "    sample_weight, estimator_weight, estimator_error = self._boost(\n",
            "                                                       ^^^^^^^^^^^^\n",
            "  File \"c:\\Users\\menia\\Desktop\\PortefolioML\\Sepsis\\venv\\Lib\\site-packages\\sklearn\\ensemble\\_weight_boosting.py\", line 594, in _boost\n",
            "    return self._boost_real(iboost, X, y, sample_weight, random_state)\n",
            "           ^^^^^^^^^^^^^^^^^^^^^^^^^^^^^^^^^^^^^^^^^^^^^^^^^^^^^^^^^^^\n",
            "  File \"c:\\Users\\menia\\Desktop\\PortefolioML\\Sepsis\\venv\\Lib\\site-packages\\imblearn\\ensemble\\_weight_boosting.py\", line 290, in _boost_real\n",
            "    X_res, y_res = sampler.fit_resample(X, y)\n",
            "                   ^^^^^^^^^^^^^^^^^^^^^^^^^^\n",
            "  File \"c:\\Users\\menia\\Desktop\\PortefolioML\\Sepsis\\venv\\Lib\\site-packages\\imblearn\\base.py\", line 208, in fit_resample\n",
            "    return super().fit_resample(X, y)\n",
            "           ^^^^^^^^^^^^^^^^^^^^^^^^^^\n",
            "  File \"c:\\Users\\menia\\Desktop\\PortefolioML\\Sepsis\\venv\\Lib\\site-packages\\imblearn\\base.py\", line 108, in fit_resample\n",
            "    self.sampling_strategy_ = check_sampling_strategy(\n",
            "                              ^^^^^^^^^^^^^^^^^^^^^^^^\n",
            "  File \"c:\\Users\\menia\\Desktop\\PortefolioML\\Sepsis\\venv\\Lib\\site-packages\\imblearn\\utils\\_validation.py\", line 537, in check_sampling_strategy\n",
            "    raise ValueError(\n",
            "ValueError: The target 'y' needs to have more than 1 class. Got 1 class instead\n",
            "\n",
            "  warnings.warn(some_fits_failed_message, FitFailedWarning)\n"
          ]
        },
        {
          "data": {
            "image/png": "[encoded data removed]",
            "text/plain": [
              "<Figure size 640x480 with 1 Axes>"
            ]
          },
          "metadata": {},
          "output_type": "display_data"
        }
      ],
      "source": [
        "#Best model\n",
        "from sklearn.model_selection import StratifiedKFold, learning_curve\n",
        "from sklearn.tree import DecisionTreeClassifier\n",
        "from imblearn.ensemble import RUSBoostClassifier\n",
        "from sklearn.metrics import accuracy_score, precision_score, recall_score, f1_score, confusion_matrix, roc_auc_score\n",
        "import numpy as np\n",
        "import matplotlib.pyplot as plt\n",
        "import pandas as pd\n",
        "\n",
        "# Assume data is already loaded and preprocessed\n",
        "data = first_df_imputed  # Replace 'first_df_imputed' with your actual DataFrame name\n",
        "\n",
        "# Define the target based on 'PCT' values\n",
        "data['Label'] = np.where(data['PCT'] > 2, 1, 0)\n",
        "\n",
        "# Select features excluding 'PCT' and 'Label'\n",
        "features = data.columns.difference(['PCT', 'Label'])\n",
        "X = data[features]\n",
        "y = data['Label']\n",
        "\n",
        "# Setup cross-validation\n",
        "cv = StratifiedKFold(n_splits=5)\n",
        "\n",
        "# Instantiate the best model from grid search\n",
        "best_model = RUSBoostClassifier(\n",
        "    estimator=DecisionTreeClassifier(max_depth=5),\n",
        "    n_estimators=300,\n",
        "    learning_rate=0.01,\n",
        "    algorithm='SAMME.R',\n",
        "    random_state=1714400672\n",
        ")\n",
        "\n",
        "# Perform detailed evaluation on the best model\n",
        "scores = {\n",
        "    'auc_scores': [],\n",
        "    'accuracy_scores': [],\n",
        "    'precision_scores': [],\n",
        "    'recall_scores': [],\n",
        "    'f1_scores': [],\n",
        "    'confusion_matrices': []\n",
        "}\n",
        "\n",
        "for train_idx, test_idx in cv.split(X, y):\n",
        "    X_train, X_test = X.iloc[train_idx], X.iloc[test_idx]\n",
        "    y_train, y_test = y.iloc[train_idx], y.iloc[test_idx]\n",
        "\n",
        "    # Fit the model\n",
        "    best_model.fit(X_train, y_train)\n",
        "\n",
        "    # Predict outcomes\n",
        "    y_pred = best_model.predict(X_test)\n",
        "    y_pred_prob = best_model.predict_proba(X_test)[:, 1]\n",
        "\n",
        "    # Calculate metrics\n",
        "    scores['auc_scores'].append(roc_auc_score(y_test, y_pred_prob))\n",
        "    scores['accuracy_scores'].append(accuracy_score(y_test, y_pred))\n",
        "    scores['precision_scores'].append(precision_score(y_test, y_pred))\n",
        "    scores['recall_scores'].append(recall_score(y_test, y_pred))\n",
        "    scores['f1_scores'].append(f1_score(y_test, y_pred))\n",
        "    scores['confusion_matrices'].append(confusion_matrix(y_test, y_pred))\n",
        "\n",
        "# Display all results\n",
        "for metric, values in scores.items():\n",
        "    if metric == 'confusion_matrices':\n",
        "        print(metric, np.sum(values, axis=0))\n",
        "    else:\n",
        "        print(metric, values)\n",
        "        print(f\"Mean {metric}: {np.mean(values)}\")\n",
        "\n",
        "# Plot learning curves for the best model\n",
        "train_sizes, train_scores, test_scores = learning_curve(\n",
        "    best_model, X, y, cv=cv, scoring='roc_auc', n_jobs=-1,\n",
        "    train_sizes=np.linspace(0.1, 1.0, 10)\n",
        ")\n",
        "\n",
        "train_scores_mean = np.mean(train_scores, axis=1)\n",
        "train_scores_std = np.std(train_scores, axis=1)\n",
        "test_scores_mean = np.mean(test_scores, axis=1)\n",
        "test_scores_std = np.std(test_scores, axis=1)\n",
        "\n",
        "plt.figure()\n",
        "plt.title(\"Learning Curves (Best RUSBoost)\")\n",
        "plt.xlabel(\"Training examples\")\n",
        "plt.ylabel(\"ROC AUC Score\")\n",
        "plt.ylim((0.5, 1.01))\n",
        "plt.grid()\n",
        "\n",
        "plt.fill_between(train_sizes, train_scores_mean - train_scores_std,\n",
        "                 train_scores_mean + train_scores_std, alpha=0.1, color=\"r\")\n",
        "plt.fill_between(train_sizes, test_scores_mean - test_scores_std,\n",
        "                 test_scores_mean + test_scores_std, alpha=0.1, color=\"g\")\n",
        "plt.plot(train_sizes, train_scores_mean, 'o-', color=\"r\", label=\"Training score\")\n",
        "plt.plot(train_sizes, test_scores_mean, 'o-', color=\"g\", label=\"Cross-validation score\")\n",
        "\n",
        "plt.legend(loc=\"best\")\n",
        "plt.show()\n"
      ]
    },
    {
      "cell_type": "code",
      "execution_count": 110,
      "metadata": {},
      "outputs": [],
      "source": [
        "#second dataset with detailed white blood cells "
      ]
    },
    {
      "cell_type": "code",
      "execution_count": 111,
      "metadata": {},
      "outputs": [
        {
          "name": "stdout",
          "output_type": "stream",
          "text": [
            "     age sex    HB    MCV THROMB   ERY LEUKO    PCT LYMABS MONOZY GRANAB  \\\n",
            "6   60.0   M  10.0   93.4     48  3.18  10.8   2.34   <NA>   <NA>   <NA>   \n",
            "12  90.0   M  11.6   90.2    104  3.68   6.6   6.54   0.41    2.4   6.07   \n",
            "13  80.0   M  11.2   93.5    434  3.72  14.5   5.22   <NA>   <NA>   <NA>   \n",
            "15  55.0   M  11.5  101.8    144  3.37   6.5   3.33   0.37    6.0   5.71   \n",
            "25  68.0   W   9.2   89.9    303  3.06  11.3  36.60    0.8   10.4   9.22   \n",
            "\n",
            "   LYMPHO   IG% EOSABS GRANUL EOSINO BASOAB MONABS BASOPH  \n",
            "6    <NA>  <NA>   <NA>   <NA>   <NA>   <NA>   <NA>   <NA>  \n",
            "12    6.2   0.5   <NA>   91.2   <NA>   0.01   0.16    0.2  \n",
            "13   <NA>  <NA>   <NA>   <NA>   <NA>   <NA>   <NA>   <NA>  \n",
            "15    5.7   0.6   0.01   87.3    0.2   0.05   0.39    0.8  \n",
            "25    7.1   2.1   0.07   81.4    0.6   0.06   1.18    0.5  \n"
          ]
        }
      ],
      "source": [
        "# Select specific columns\n",
        "selected_columns = [\n",
        "    'age', 'sex' , 'HB', 'MCV', 'THROMB', 'ERY', 'LEUKO', 'PCT', 'LYMABS', 'MONOZY', 'GRANAB', 'LYMPHO', 'IG%', 'EOSABS', 'GRANUL', 'EOSINO', 'BASOAB', 'MONABS', 'BASOPH']\n",
        "\n",
        "# Creating a new DataFrame with only the selected columns\n",
        "second_df = filtered_df[selected_columns]\n",
        "\n",
        "# Display the new DataFrame\n",
        "print(second_df.head())"
      ]
    },
    {
      "cell_type": "code",
      "execution_count": 112,
      "metadata": {},
      "outputs": [
        {
          "name": "stdout",
          "output_type": "stream",
          "text": [
            "Index(['age', 'sex', 'HB', 'MCV', 'THROMB', 'ERY', 'LEUKO', 'PCT', 'LYMABS',\n",
            "       'MONOZY', 'GRANAB', 'LYMPHO', 'IG%', 'EOSABS', 'GRANUL', 'EOSINO',\n",
            "       'BASOAB', 'MONABS', 'BASOPH'],\n",
            "      dtype='object')\n"
          ]
        }
      ],
      "source": [
        "print(second_df.columns)  # This will show you the current column names in the DataFrame"
      ]
    },
    {
      "cell_type": "code",
      "execution_count": 113,
      "metadata": {},
      "outputs": [
        {
          "name": "stderr",
          "output_type": "stream",
          "text": [
            "C:\\Users\\menia\\AppData\\Local\\Temp\\ipykernel_29072\\3379972582.py:9: FutureWarning: Downcasting behavior in `replace` is deprecated and will be removed in a future version. To retain the old behavior, explicitly call `result.infer_objects(copy=False)`. To opt-in to the future behavior, set `pd.set_option('future.no_silent_downcasting', True)`\n",
            "  second_df = second_df.replace({pd.NA: np.nan})\n"
          ]
        },
        {
          "name": "stderr",
          "output_type": "stream",
          "text": [
            "c:\\Users\\menia\\Desktop\\PortefolioML\\Sepsis\\venv\\Lib\\site-packages\\sklearn\\impute\\_iterative.py:825: ConvergenceWarning: [IterativeImputer] Early stopping criterion not reached.\n",
            "  warnings.warn(\n"
          ]
        }
      ],
      "source": [
        "#KNN\n",
        "import numpy as np\n",
        "import pandas as pd\n",
        "from sklearn.neighbors import KNeighborsRegressor\n",
        "from sklearn.experimental import enable_iterative_imputer\n",
        "from sklearn.impute import IterativeImputer\n",
        "\n",
        "# Convert pd.NA to np.nan\n",
        "second_df = second_df.replace({pd.NA: np.nan})\n",
        "\n",
        "# One-hot encode the 'sex' column\n",
        "# One-hot encode the 'sex' column and drop the first category\n",
        "second_df = pd.get_dummies(second_df, columns=['sex'], drop_first=True)\n",
        "#Step 3: Setup the Iterative Imputer with a KNN estimator\n",
        "# You can adjust the number of neighbors (`n_neighbors`) as needed\n",
        "imputer = IterativeImputer(estimator=KNeighborsRegressor(n_neighbors=5), max_iter=10, random_state=0)\n",
        "\n",
        "# Step 4: Fit and transform the data\n",
        "# This will fill in all missing values in the dataframe\n",
        "second_df_imputed = pd.DataFrame(imputer.fit_transform(second_df), columns=second_df.columns)"
      ]
    },
    {
      "cell_type": "code",
      "execution_count": 114,
      "metadata": {},
      "outputs": [
        {
          "name": "stdout",
          "output_type": "stream",
          "text": [
            "auc_scores [0.9265183568900973, 0.9364565629402227, 0.9359356087574179, 0.9358885910827387, 0.937162695697643]\n",
            "Mean auc_scores: 0.9343923630736238\n",
            "accuracy_scores [0.8352713178294574, 0.8723166368515206, 0.8820810971973763, 0.8854353011329755, 0.8770870602265951]\n",
            "Mean accuracy_scores: 0.870438282647585\n",
            "precision_scores [0.4918292040063258, 0.567651632970451, 0.5937707090788602, 0.6061132337617228, 0.5782376920664786]\n",
            "Mean precision_scores: 0.5675204943767677\n",
            "recall_scores [0.8687150837988827, 0.8496275605214153, 0.8342644320297952, 0.8123836126629422, 0.8584729981378026]\n",
            "Mean recall_scores: 0.8446927374301676\n",
            "f1_scores [0.6280713564456412, 0.6805892224501212, 0.6937669376693767, 0.6942510443604536, 0.6910249203672475]\n",
            "Mean f1_scores: 0.6775406962585679\n",
            "confusion_matrices [[49317  7023]\n",
            " [ 1668  9072]]\n"
          ]
        },
        {
          "name": "stderr",
          "output_type": "stream",
          "text": [
            "c:\\Users\\menia\\Desktop\\PortefolioML\\Sepsis\\venv\\Lib\\site-packages\\sklearn\\model_selection\\_validation.py:540: FitFailedWarning: \n",
            "5 fits failed out of a total of 50.\n",
            "The score on these train-test partitions for these parameters will be set to nan.\n",
            "If these failures are not expected, you can try to debug them by setting error_score='raise'.\n",
            "\n",
            "Below are more details about the failures:\n",
            "--------------------------------------------------------------------------------\n",
            "5 fits failed with the following error:\n",
            "Traceback (most recent call last):\n",
            "  File \"c:\\Users\\menia\\Desktop\\PortefolioML\\Sepsis\\venv\\Lib\\site-packages\\sklearn\\model_selection\\_validation.py\", line 888, in _fit_and_score\n",
            "    estimator.fit(X_train, y_train, **fit_params)\n",
            "  File \"c:\\Users\\menia\\Desktop\\PortefolioML\\Sepsis\\venv\\Lib\\site-packages\\sklearn\\base.py\", line 1473, in wrapper\n",
            "    return fit_method(estimator, *args, **kwargs)\n",
            "           ^^^^^^^^^^^^^^^^^^^^^^^^^^^^^^^^^^^^^^\n",
            "  File \"c:\\Users\\menia\\Desktop\\PortefolioML\\Sepsis\\venv\\Lib\\site-packages\\imblearn\\ensemble\\_weight_boosting.py\", line 230, in fit\n",
            "    super().fit(X, y, sample_weight)\n",
            "  File \"c:\\Users\\menia\\Desktop\\PortefolioML\\Sepsis\\venv\\Lib\\site-packages\\sklearn\\base.py\", line 1473, in wrapper\n",
            "    return fit_method(estimator, *args, **kwargs)\n",
            "           ^^^^^^^^^^^^^^^^^^^^^^^^^^^^^^^^^^^^^^\n",
            "  File \"c:\\Users\\menia\\Desktop\\PortefolioML\\Sepsis\\venv\\Lib\\site-packages\\sklearn\\ensemble\\_weight_boosting.py\", line 169, in fit\n",
            "    sample_weight, estimator_weight, estimator_error = self._boost(\n",
            "                                                       ^^^^^^^^^^^^\n",
            "  File \"c:\\Users\\menia\\Desktop\\PortefolioML\\Sepsis\\venv\\Lib\\site-packages\\sklearn\\ensemble\\_weight_boosting.py\", line 594, in _boost\n",
            "    return self._boost_real(iboost, X, y, sample_weight, random_state)\n",
            "           ^^^^^^^^^^^^^^^^^^^^^^^^^^^^^^^^^^^^^^^^^^^^^^^^^^^^^^^^^^^\n",
            "  File \"c:\\Users\\menia\\Desktop\\PortefolioML\\Sepsis\\venv\\Lib\\site-packages\\imblearn\\ensemble\\_weight_boosting.py\", line 290, in _boost_real\n",
            "    X_res, y_res = sampler.fit_resample(X, y)\n",
            "                   ^^^^^^^^^^^^^^^^^^^^^^^^^^\n",
            "  File \"c:\\Users\\menia\\Desktop\\PortefolioML\\Sepsis\\venv\\Lib\\site-packages\\imblearn\\base.py\", line 208, in fit_resample\n",
            "    return super().fit_resample(X, y)\n",
            "           ^^^^^^^^^^^^^^^^^^^^^^^^^^\n",
            "  File \"c:\\Users\\menia\\Desktop\\PortefolioML\\Sepsis\\venv\\Lib\\site-packages\\imblearn\\base.py\", line 108, in fit_resample\n",
            "    self.sampling_strategy_ = check_sampling_strategy(\n",
            "                              ^^^^^^^^^^^^^^^^^^^^^^^^\n",
            "  File \"c:\\Users\\menia\\Desktop\\PortefolioML\\Sepsis\\venv\\Lib\\site-packages\\imblearn\\utils\\_validation.py\", line 537, in check_sampling_strategy\n",
            "    raise ValueError(\n",
            "ValueError: The target 'y' needs to have more than 1 class. Got 1 class instead\n",
            "\n",
            "  warnings.warn(some_fits_failed_message, FitFailedWarning)\n"
          ]
        },
        {
          "data": {
            "image/png": "[encoded data removed]",
            "text/plain": [
              "<Figure size 640x480 with 1 Axes>"
            ]
          },
          "metadata": {},
          "output_type": "display_data"
        }
      ],
      "source": [
        "#Best model\n",
        "from sklearn.model_selection import StratifiedKFold, learning_curve\n",
        "from sklearn.tree import DecisionTreeClassifier\n",
        "from imblearn.ensemble import RUSBoostClassifier\n",
        "from sklearn.metrics import accuracy_score, precision_score, recall_score, f1_score, confusion_matrix, roc_auc_score\n",
        "import numpy as np\n",
        "import matplotlib.pyplot as plt\n",
        "import pandas as pd\n",
        "\n",
        "# Assume data is already loaded and preprocessed\n",
        "data = second_df_imputed  # Replace 'first_df_imputed' with your actual DataFrame name\n",
        "\n",
        "# Define the target based on 'PCT' values\n",
        "data['Label'] = np.where(data['PCT'] > 2, 1, 0)\n",
        "\n",
        "# Select features excluding 'PCT' and 'Label'\n",
        "features = data.columns.difference(['PCT', 'Label'])\n",
        "X = data[features]\n",
        "y = data['Label']\n",
        "\n",
        "# Setup cross-validation\n",
        "cv = StratifiedKFold(n_splits=5)\n",
        "\n",
        "# Instantiate the best model from grid search\n",
        "best_model = RUSBoostClassifier(\n",
        "    estimator=DecisionTreeClassifier(max_depth=5),\n",
        "    n_estimators=300,\n",
        "    learning_rate=0.01,\n",
        "    algorithm='SAMME.R',\n",
        "    random_state=1714400672\n",
        ")\n",
        "\n",
        "# Perform detailed evaluation on the best model\n",
        "scores = {\n",
        "    'auc_scores': [],\n",
        "    'accuracy_scores': [],\n",
        "    'precision_scores': [],\n",
        "    'recall_scores': [],\n",
        "    'f1_scores': [],\n",
        "    'confusion_matrices': []\n",
        "}\n",
        "\n",
        "for train_idx, test_idx in cv.split(X, y):\n",
        "    X_train, X_test = X.iloc[train_idx], X.iloc[test_idx]\n",
        "    y_train, y_test = y.iloc[train_idx], y.iloc[test_idx]\n",
        "\n",
        "    # Fit the model\n",
        "    best_model.fit(X_train, y_train)\n",
        "\n",
        "    # Predict outcomes\n",
        "    y_pred = best_model.predict(X_test)\n",
        "    y_pred_prob = best_model.predict_proba(X_test)[:, 1]\n",
        "\n",
        "    # Calculate metrics\n",
        "    scores['auc_scores'].append(roc_auc_score(y_test, y_pred_prob))\n",
        "    scores['accuracy_scores'].append(accuracy_score(y_test, y_pred))\n",
        "    scores['precision_scores'].append(precision_score(y_test, y_pred))\n",
        "    scores['recall_scores'].append(recall_score(y_test, y_pred))\n",
        "    scores['f1_scores'].append(f1_score(y_test, y_pred))\n",
        "    scores['confusion_matrices'].append(confusion_matrix(y_test, y_pred))\n",
        "\n",
        "# Display all results\n",
        "for metric, values in scores.items():\n",
        "    if metric == 'confusion_matrices':\n",
        "        print(metric, np.sum(values, axis=0))\n",
        "    else:\n",
        "        print(metric, values)\n",
        "        print(f\"Mean {metric}: {np.mean(values)}\")\n",
        "\n",
        "# Plot learning curves for the best model\n",
        "train_sizes, train_scores, test_scores = learning_curve(\n",
        "    best_model, X, y, cv=cv, scoring='roc_auc', n_jobs=-1,\n",
        "    train_sizes=np.linspace(0.1, 1.0, 10)\n",
        ")\n",
        "\n",
        "train_scores_mean = np.mean(train_scores, axis=1)\n",
        "train_scores_std = np.std(train_scores, axis=1)\n",
        "test_scores_mean = np.mean(test_scores, axis=1)\n",
        "test_scores_std = np.std(test_scores, axis=1)\n",
        "\n",
        "plt.figure()\n",
        "plt.title(\"Learning Curves (Best RUSBoost)\")\n",
        "plt.xlabel(\"Training examples\")\n",
        "plt.ylabel(\"ROC AUC Score\")\n",
        "plt.ylim((0.5, 1.01))\n",
        "plt.grid()\n",
        "\n",
        "plt.fill_between(train_sizes, train_scores_mean - train_scores_std,\n",
        "                 train_scores_mean + train_scores_std, alpha=0.1, color=\"r\")\n",
        "plt.fill_between(train_sizes, test_scores_mean - test_scores_std,\n",
        "                 test_scores_mean + test_scores_std, alpha=0.1, color=\"g\")\n",
        "plt.plot(train_sizes, train_scores_mean, 'o-', color=\"r\", label=\"Training score\")\n",
        "plt.plot(train_sizes, test_scores_mean, 'o-', color=\"g\", label=\"Cross-validation score\")\n",
        "\n",
        "plt.legend(loc=\"best\")\n",
        "plt.show()\n"
      ]
    },
    {
      "cell_type": "code",
      "execution_count": 115,
      "metadata": {},
      "outputs": [],
      "source": [
        "# our important features"
      ]
    },
    {
      "cell_type": "code",
      "execution_count": 116,
      "metadata": {},
      "outputs": [
        {
          "name": "stdout",
          "output_type": "stream",
          "text": [
            "      HK THROMB    HB   ERY BASOPH LEUKO EOSINO RDW-SD LYMABS    PCT\n",
            "6   29.7     48  10.0  3.18   <NA>  10.8   <NA>   <NA>   <NA>   2.34\n",
            "12  33.2    104  11.6  3.68    0.2   6.6   <NA>   <NA>   0.41   6.54\n",
            "13  34.8    434  11.2  3.72   <NA>  14.5   <NA>   <NA>   <NA>   5.22\n",
            "15  34.3    144  11.5  3.37    0.8   6.5    0.2   <NA>   0.37   3.33\n",
            "25  27.5    303   9.2  3.06    0.5  11.3    0.6   <NA>    0.8  36.60\n"
          ]
        }
      ],
      "source": [
        "# Select specific columns\n",
        "selected_columns = [\n",
        "    'HK', 'THROMB', 'HB', 'ERY', 'BASOPH', 'LEUKO', 'EOSINO', 'RDW-SD', 'LYMABS', 'PCT']\n",
        "# Creating a new DataFrame with only the selected columns\n",
        "final_df4 = filtered_df[selected_columns]\n",
        "\n",
        "# Display the new DataFrame\n",
        "print(final_df4.head())"
      ]
    },
    {
      "cell_type": "code",
      "execution_count": 117,
      "metadata": {},
      "outputs": [
        {
          "name": "stderr",
          "output_type": "stream",
          "text": [
            "C:\\Users\\menia\\AppData\\Local\\Temp\\ipykernel_29072\\175797584.py:8: FutureWarning: Downcasting behavior in `replace` is deprecated and will be removed in a future version. To retain the old behavior, explicitly call `result.infer_objects(copy=False)`. To opt-in to the future behavior, set `pd.set_option('future.no_silent_downcasting', True)`\n",
            "  final_df4 = final_df4.replace({pd.NA: np.nan})  # Correctly reference final_df4 here\n",
            "c:\\Users\\menia\\Desktop\\PortefolioML\\Sepsis\\venv\\Lib\\site-packages\\sklearn\\impute\\_iterative.py:825: ConvergenceWarning: [IterativeImputer] Early stopping criterion not reached.\n",
            "  warnings.warn(\n"
          ]
        }
      ],
      "source": [
        "import numpy as np\n",
        "import pandas as pd\n",
        "from sklearn.neighbors import KNeighborsRegressor\n",
        "from sklearn.experimental import enable_iterative_imputer\n",
        "from sklearn.impute import IterativeImputer\n",
        "\n",
        "# Assuming final_df4 is your initial DataFrame and it contains pd.NA values\n",
        "final_df4 = final_df4.replace({pd.NA: np.nan})  # Correctly reference final_df4 here\n",
        "\n",
        "# One-hot encode the 'sex' column\n",
        "#final_df4 = pd.get_dummies(final_df4, columns=['sex'], drop_first=True)\n",
        "\n",
        "# Setup the Iterative Imputer with a KNN estimator\n",
        "# Adjust the number of neighbors (`n_neighbors`) as needed\n",
        "imputer = IterativeImputer(estimator=KNeighborsRegressor(n_neighbors=5), max_iter=10, random_state=0)\n",
        "\n",
        "# Fit and transform the data to fill in all missing values\n",
        "final_df4_imputed = pd.DataFrame(imputer.fit_transform(final_df4), columns=final_df4.columns)\n"
      ]
    },
    {
      "cell_type": "code",
      "execution_count": 118,
      "metadata": {},
      "outputs": [
        {
          "name": "stdout",
          "output_type": "stream",
          "text": [
            "auc_scores [0.9281301789679447, 0.9366564087156389, 0.9382207173261041, 0.928524251534809, 0.9391399169976911]\n",
            "Mean auc_scores: 0.9341342947084375\n",
            "accuracy_scores [0.8240906380441264, 0.8691860465116279, 0.8822301729278473, 0.881633870005963, 0.8714967203339297]\n",
            "Mean accuracy_scores: 0.8657274895646989\n",
            "precision_scores [0.47357926221335994, 0.5588499550763701, 0.5932982917214192, 0.5956937799043063, 0.56404833836858]\n",
            "Mean precision_scores: 0.557093925456807\n",
            "recall_scores [0.8845437616387337, 0.8687150837988827, 0.840782122905028, 0.8114525139664804, 0.8691806331471136]\n",
            "Mean recall_scores: 0.8549348230912477\n",
            "f1_scores [0.6168831168831169, 0.6801530891197376, 0.6956856702619415, 0.6870319274733938, 0.6841333821912788]\n",
            "Mean f1_scores: 0.6727774371858938\n",
            "confusion_matrices [[48891  7449]\n",
            " [ 1558  9182]]\n"
          ]
        },
        {
          "name": "stderr",
          "output_type": "stream",
          "text": [
            "c:\\Users\\menia\\Desktop\\PortefolioML\\Sepsis\\venv\\Lib\\site-packages\\sklearn\\model_selection\\_validation.py:540: FitFailedWarning: \n",
            "5 fits failed out of a total of 50.\n",
            "The score on these train-test partitions for these parameters will be set to nan.\n",
            "If these failures are not expected, you can try to debug them by setting error_score='raise'.\n",
            "\n",
            "Below are more details about the failures:\n",
            "--------------------------------------------------------------------------------\n",
            "5 fits failed with the following error:\n",
            "Traceback (most recent call last):\n",
            "  File \"c:\\Users\\menia\\Desktop\\PortefolioML\\Sepsis\\venv\\Lib\\site-packages\\sklearn\\model_selection\\_validation.py\", line 888, in _fit_and_score\n",
            "    estimator.fit(X_train, y_train, **fit_params)\n",
            "  File \"c:\\Users\\menia\\Desktop\\PortefolioML\\Sepsis\\venv\\Lib\\site-packages\\sklearn\\base.py\", line 1473, in wrapper\n",
            "    return fit_method(estimator, *args, **kwargs)\n",
            "           ^^^^^^^^^^^^^^^^^^^^^^^^^^^^^^^^^^^^^^\n",
            "  File \"c:\\Users\\menia\\Desktop\\PortefolioML\\Sepsis\\venv\\Lib\\site-packages\\imblearn\\ensemble\\_weight_boosting.py\", line 230, in fit\n",
            "    super().fit(X, y, sample_weight)\n",
            "  File \"c:\\Users\\menia\\Desktop\\PortefolioML\\Sepsis\\venv\\Lib\\site-packages\\sklearn\\base.py\", line 1473, in wrapper\n",
            "    return fit_method(estimator, *args, **kwargs)\n",
            "           ^^^^^^^^^^^^^^^^^^^^^^^^^^^^^^^^^^^^^^\n",
            "  File \"c:\\Users\\menia\\Desktop\\PortefolioML\\Sepsis\\venv\\Lib\\site-packages\\sklearn\\ensemble\\_weight_boosting.py\", line 169, in fit\n",
            "    sample_weight, estimator_weight, estimator_error = self._boost(\n",
            "                                                       ^^^^^^^^^^^^\n",
            "  File \"c:\\Users\\menia\\Desktop\\PortefolioML\\Sepsis\\venv\\Lib\\site-packages\\sklearn\\ensemble\\_weight_boosting.py\", line 594, in _boost\n",
            "    return self._boost_real(iboost, X, y, sample_weight, random_state)\n",
            "           ^^^^^^^^^^^^^^^^^^^^^^^^^^^^^^^^^^^^^^^^^^^^^^^^^^^^^^^^^^^\n",
            "  File \"c:\\Users\\menia\\Desktop\\PortefolioML\\Sepsis\\venv\\Lib\\site-packages\\imblearn\\ensemble\\_weight_boosting.py\", line 290, in _boost_real\n",
            "    X_res, y_res = sampler.fit_resample(X, y)\n",
            "                   ^^^^^^^^^^^^^^^^^^^^^^^^^^\n",
            "  File \"c:\\Users\\menia\\Desktop\\PortefolioML\\Sepsis\\venv\\Lib\\site-packages\\imblearn\\base.py\", line 208, in fit_resample\n",
            "    return super().fit_resample(X, y)\n",
            "           ^^^^^^^^^^^^^^^^^^^^^^^^^^\n",
            "  File \"c:\\Users\\menia\\Desktop\\PortefolioML\\Sepsis\\venv\\Lib\\site-packages\\imblearn\\base.py\", line 108, in fit_resample\n",
            "    self.sampling_strategy_ = check_sampling_strategy(\n",
            "                              ^^^^^^^^^^^^^^^^^^^^^^^^\n",
            "  File \"c:\\Users\\menia\\Desktop\\PortefolioML\\Sepsis\\venv\\Lib\\site-packages\\imblearn\\utils\\_validation.py\", line 537, in check_sampling_strategy\n",
            "    raise ValueError(\n",
            "ValueError: The target 'y' needs to have more than 1 class. Got 1 class instead\n",
            "\n",
            "  warnings.warn(some_fits_failed_message, FitFailedWarning)\n"
          ]
        },
        {
          "data": {
            "image/png": "[encoded data removed]",
            "text/plain": [
              "<Figure size 640x480 with 1 Axes>"
            ]
          },
          "metadata": {},
          "output_type": "display_data"
        }
      ],
      "source": [
        "#Best model\n",
        "from sklearn.model_selection import StratifiedKFold, learning_curve\n",
        "from sklearn.tree import DecisionTreeClassifier\n",
        "from imblearn.ensemble import RUSBoostClassifier\n",
        "from sklearn.metrics import accuracy_score, precision_score, recall_score, f1_score, confusion_matrix, roc_auc_score\n",
        "import numpy as np\n",
        "import matplotlib.pyplot as plt\n",
        "import pandas as pd\n",
        "\n",
        "# Assume data is already loaded and preprocessed\n",
        "data = final_df4_imputed  # Replace 'first_df_imputed' with your actual DataFrame name\n",
        "\n",
        "# Define the target based on 'PCT' values\n",
        "data['Label'] = np.where(data['PCT'] > 2, 1, 0)\n",
        "\n",
        "# Select features excluding 'PCT' and 'Label'\n",
        "features = data.columns.difference(['PCT', 'Label'])\n",
        "X = data[features]\n",
        "y = data['Label']\n",
        "\n",
        "# Setup cross-validation\n",
        "cv = StratifiedKFold(n_splits=5)\n",
        "\n",
        "# Instantiate the best model from grid search\n",
        "best_model = RUSBoostClassifier(\n",
        "    estimator=DecisionTreeClassifier(max_depth=5),\n",
        "    n_estimators=300,\n",
        "    learning_rate=0.01,\n",
        "    algorithm='SAMME.R',\n",
        "    random_state=1714400672\n",
        ")\n",
        "\n",
        "# Perform detailed evaluation on the best model\n",
        "scores = {\n",
        "    'auc_scores': [],\n",
        "    'accuracy_scores': [],\n",
        "    'precision_scores': [],\n",
        "    'recall_scores': [],\n",
        "    'f1_scores': [],\n",
        "    'confusion_matrices': []\n",
        "}\n",
        "\n",
        "for train_idx, test_idx in cv.split(X, y):\n",
        "    X_train, X_test = X.iloc[train_idx], X.iloc[test_idx]\n",
        "    y_train, y_test = y.iloc[train_idx], y.iloc[test_idx]\n",
        "\n",
        "    # Fit the model\n",
        "    best_model.fit(X_train, y_train)\n",
        "\n",
        "    # Predict outcomes\n",
        "    y_pred = best_model.predict(X_test)\n",
        "    y_pred_prob = best_model.predict_proba(X_test)[:, 1]\n",
        "\n",
        "    # Calculate metrics\n",
        "    scores['auc_scores'].append(roc_auc_score(y_test, y_pred_prob))\n",
        "    scores['accuracy_scores'].append(accuracy_score(y_test, y_pred))\n",
        "    scores['precision_scores'].append(precision_score(y_test, y_pred))\n",
        "    scores['recall_scores'].append(recall_score(y_test, y_pred))\n",
        "    scores['f1_scores'].append(f1_score(y_test, y_pred))\n",
        "    scores['confusion_matrices'].append(confusion_matrix(y_test, y_pred))\n",
        "\n",
        "# Display all results\n",
        "for metric, values in scores.items():\n",
        "    if metric == 'confusion_matrices':\n",
        "        print(metric, np.sum(values, axis=0))\n",
        "    else:\n",
        "        print(metric, values)\n",
        "        print(f\"Mean {metric}: {np.mean(values)}\")\n",
        "\n",
        "# Plot learning curves for the best model\n",
        "\n",
        "train_sizes, train_scores, test_scores = learning_curve(\n",
        "    best_model, X, y, cv=cv, scoring='roc_auc', n_jobs=-1,\n",
        "    train_sizes=np.linspace(0.1, 1.0, 10)\n",
        ")\n",
        "\n",
        "train_scores_mean = np.mean(train_scores, axis=1)\n",
        "train_scores_std = np.std(train_scores, axis=1)\n",
        "test_scores_mean = np.mean(test_scores, axis=1)\n",
        "test_scores_std = np.std(test_scores, axis=1)\n",
        "\n",
        "plt.figure()\n",
        "plt.title(\"Learning Curves (Best RUSBoost)\")\n",
        "plt.xlabel(\"Training examples\")\n",
        "plt.ylabel(\"ROC AUC Score\")\n",
        "plt.ylim((0.5, 1.01))\n",
        "plt.grid()\n",
        "\n",
        "plt.fill_between(train_sizes, train_scores_mean - train_scores_std,\n",
        "                 train_scores_mean + train_scores_std, alpha=0.1, color=\"r\")\n",
        "plt.fill_between(train_sizes, test_scores_mean - test_scores_std,\n",
        "                 test_scores_mean + test_scores_std, alpha=0.1, color=\"g\")\n",
        "plt.plot(train_sizes, train_scores_mean, 'o-', color=\"r\", label=\"Training score\")\n",
        "plt.plot(train_sizes, test_scores_mean, 'o-', color=\"g\", label=\"Cross-validation score\")\n",
        "\n",
        "plt.legend(loc=\"best\")\n",
        "plt.show()"
      ]
    },
    {
      "cell_type": "code",
      "execution_count": 119,
      "metadata": {},
      "outputs": [
        {
          "name": "stdout",
          "output_type": "stream",
          "text": [
            "Label\n",
            "0    56340\n",
            "1    10740\n",
            "Name: count, dtype: int64\n"
          ]
        }
      ],
      "source": [
        "print(y.value_counts())"
      ]
    },
    {
      "cell_type": "code",
      "execution_count": 120,
      "metadata": {},
      "outputs": [],
      "source": [
        "#combien first def and important features"
      ]
    },
    {
      "cell_type": "code",
      "execution_count": 121,
      "metadata": {},
      "outputs": [
        {
          "name": "stdout",
          "output_type": "stream",
          "text": [
            "     age sex    HB    MCV THROMB   ERY LEUKO    PCT    HK BASOPH EOSINO  \\\n",
            "6   60.0   M  10.0   93.4     48  3.18  10.8   2.34  29.7   <NA>   <NA>   \n",
            "12  90.0   M  11.6   90.2    104  3.68   6.6   6.54  33.2    0.2   <NA>   \n",
            "13  80.0   M  11.2   93.5    434  3.72  14.5   5.22  34.8   <NA>   <NA>   \n",
            "15  55.0   M  11.5  101.8    144  3.37   6.5   3.33  34.3    0.8    0.2   \n",
            "25  68.0   W   9.2   89.9    303  3.06  11.3  36.60  27.5    0.5    0.6   \n",
            "\n",
            "   RDW-SD LYMABS  \n",
            "6    <NA>   <NA>  \n",
            "12   <NA>   0.41  \n",
            "13   <NA>   <NA>  \n",
            "15   <NA>   0.37  \n",
            "25   <NA>    0.8  \n"
          ]
        }
      ],
      "source": [
        "# Select specific columns\n",
        "selected_columns = [\n",
        "    'age', 'sex', 'HB', 'MCV', 'THROMB', 'ERY', 'LEUKO', 'PCT', 'HK', 'BASOPH', 'EOSINO', 'RDW-SD', 'LYMABS']\n",
        "\n",
        "# Creating a new DataFrame with only the selected columns\n",
        "combined_df = filtered_df[selected_columns]\n",
        "\n",
        "# Display the new DataFrame\n",
        "print(combined_df.head())"
      ]
    },
    {
      "cell_type": "code",
      "execution_count": 122,
      "metadata": {},
      "outputs": [
        {
          "name": "stderr",
          "output_type": "stream",
          "text": [
            "C:\\Users\\menia\\AppData\\Local\\Temp\\ipykernel_29072\\617911814.py:8: FutureWarning: Downcasting behavior in `replace` is deprecated and will be removed in a future version. To retain the old behavior, explicitly call `result.infer_objects(copy=False)`. To opt-in to the future behavior, set `pd.set_option('future.no_silent_downcasting', True)`\n",
            "  combined_df = combined_df.replace({pd.NA: np.nan})  # Correctly reference final_df4 here\n",
            "c:\\Users\\menia\\Desktop\\PortefolioML\\Sepsis\\venv\\Lib\\site-packages\\sklearn\\impute\\_iterative.py:825: ConvergenceWarning: [IterativeImputer] Early stopping criterion not reached.\n",
            "  warnings.warn(\n"
          ]
        }
      ],
      "source": [
        "import numpy as np\n",
        "import pandas as pd\n",
        "from sklearn.neighbors import KNeighborsRegressor\n",
        "from sklearn.experimental import enable_iterative_imputer\n",
        "from sklearn.impute import IterativeImputer\n",
        "\n",
        "# Assuming final_df4 is your initial DataFrame and it contains pd.NA values\n",
        "combined_df = combined_df.replace({pd.NA: np.nan})  # Correctly reference final_df4 here\n",
        "\n",
        "# One-hot encode the 'sex' column\n",
        "combined_df = pd.get_dummies(combined_df, columns=['sex'], drop_first=True)\n",
        "\n",
        "# Setup the Iterative Imputer with a KNN estimator\n",
        "# Adjust the number of neighbors (`n_neighbors`) as needed\n",
        "imputer = IterativeImputer(estimator=KNeighborsRegressor(n_neighbors=5), max_iter=10, random_state=0)\n",
        "\n",
        "# Fit and transform the data to fill in all missing values\n",
        "combined_df_imputed = pd.DataFrame(imputer.fit_transform(combined_df), columns=combined_df.columns)\n"
      ]
    },
    {
      "cell_type": "code",
      "execution_count": 123,
      "metadata": {},
      "outputs": [
        {
          "name": "stdout",
          "output_type": "stream",
          "text": [
            "auc_scores [0.9223260577406792, 0.9342519380536766, 0.9314380665671115, 0.930593111852817, 0.935035910265487]\n",
            "Mean auc_scores: 0.9307290168959543\n",
            "accuracy_scores [0.8181276088252832, 0.8688133571854502, 0.8812611806797853, 0.8838700059630292, 0.874180083482409]\n",
            "Mean accuracy_scores: 0.8652504472271915\n",
            "precision_scores [0.4638613861386139, 0.5594362745098039, 0.5935288169868554, 0.6009582477754962, 0.5708128078817734]\n",
            "Mean precision_scores: 0.5577195066585086\n",
            "recall_scores [0.87243947858473, 0.8500931098696461, 0.8198324022346368, 0.8175046554934823, 0.8631284916201117]\n",
            "Mean recall_scores: 0.8445996275605212\n",
            "f1_scores [0.6056884292178409, 0.6747967479674797, 0.6885630498533725, 0.6927021696252466, 0.687175685693106]\n",
            "Mean f1_scores: 0.6697852164714091\n",
            "confusion_matrices [[48970  7370]\n",
            " [ 1669  9071]]\n"
          ]
        },
        {
          "name": "stderr",
          "output_type": "stream",
          "text": [
            "c:\\Users\\menia\\Desktop\\PortefolioML\\Sepsis\\venv\\Lib\\site-packages\\sklearn\\model_selection\\_validation.py:540: FitFailedWarning: \n",
            "5 fits failed out of a total of 50.\n",
            "The score on these train-test partitions for these parameters will be set to nan.\n",
            "If these failures are not expected, you can try to debug them by setting error_score='raise'.\n",
            "\n",
            "Below are more details about the failures:\n",
            "--------------------------------------------------------------------------------\n",
            "5 fits failed with the following error:\n",
            "Traceback (most recent call last):\n",
            "  File \"c:\\Users\\menia\\Desktop\\PortefolioML\\Sepsis\\venv\\Lib\\site-packages\\sklearn\\model_selection\\_validation.py\", line 888, in _fit_and_score\n",
            "    estimator.fit(X_train, y_train, **fit_params)\n",
            "  File \"c:\\Users\\menia\\Desktop\\PortefolioML\\Sepsis\\venv\\Lib\\site-packages\\sklearn\\base.py\", line 1473, in wrapper\n",
            "    return fit_method(estimator, *args, **kwargs)\n",
            "           ^^^^^^^^^^^^^^^^^^^^^^^^^^^^^^^^^^^^^^\n",
            "  File \"c:\\Users\\menia\\Desktop\\PortefolioML\\Sepsis\\venv\\Lib\\site-packages\\imblearn\\ensemble\\_weight_boosting.py\", line 230, in fit\n",
            "    super().fit(X, y, sample_weight)\n",
            "  File \"c:\\Users\\menia\\Desktop\\PortefolioML\\Sepsis\\venv\\Lib\\site-packages\\sklearn\\base.py\", line 1473, in wrapper\n",
            "    return fit_method(estimator, *args, **kwargs)\n",
            "           ^^^^^^^^^^^^^^^^^^^^^^^^^^^^^^^^^^^^^^\n",
            "  File \"c:\\Users\\menia\\Desktop\\PortefolioML\\Sepsis\\venv\\Lib\\site-packages\\sklearn\\ensemble\\_weight_boosting.py\", line 169, in fit\n",
            "    sample_weight, estimator_weight, estimator_error = self._boost(\n",
            "                                                       ^^^^^^^^^^^^\n",
            "  File \"c:\\Users\\menia\\Desktop\\PortefolioML\\Sepsis\\venv\\Lib\\site-packages\\sklearn\\ensemble\\_weight_boosting.py\", line 594, in _boost\n",
            "    return self._boost_real(iboost, X, y, sample_weight, random_state)\n",
            "           ^^^^^^^^^^^^^^^^^^^^^^^^^^^^^^^^^^^^^^^^^^^^^^^^^^^^^^^^^^^\n",
            "  File \"c:\\Users\\menia\\Desktop\\PortefolioML\\Sepsis\\venv\\Lib\\site-packages\\imblearn\\ensemble\\_weight_boosting.py\", line 290, in _boost_real\n",
            "    X_res, y_res = sampler.fit_resample(X, y)\n",
            "                   ^^^^^^^^^^^^^^^^^^^^^^^^^^\n",
            "  File \"c:\\Users\\menia\\Desktop\\PortefolioML\\Sepsis\\venv\\Lib\\site-packages\\imblearn\\base.py\", line 208, in fit_resample\n",
            "    return super().fit_resample(X, y)\n",
            "           ^^^^^^^^^^^^^^^^^^^^^^^^^^\n",
            "  File \"c:\\Users\\menia\\Desktop\\PortefolioML\\Sepsis\\venv\\Lib\\site-packages\\imblearn\\base.py\", line 108, in fit_resample\n",
            "    self.sampling_strategy_ = check_sampling_strategy(\n",
            "                              ^^^^^^^^^^^^^^^^^^^^^^^^\n",
            "  File \"c:\\Users\\menia\\Desktop\\PortefolioML\\Sepsis\\venv\\Lib\\site-packages\\imblearn\\utils\\_validation.py\", line 537, in check_sampling_strategy\n",
            "    raise ValueError(\n",
            "ValueError: The target 'y' needs to have more than 1 class. Got 1 class instead\n",
            "\n",
            "  warnings.warn(some_fits_failed_message, FitFailedWarning)\n"
          ]
        },
        {
          "data": {
            "image/png": "[encoded data removed]",
            "text/plain": [
              "<Figure size 640x480 with 1 Axes>"
            ]
          },
          "metadata": {},
          "output_type": "display_data"
        }
      ],
      "source": [
        "#Best model\n",
        "from sklearn.model_selection import StratifiedKFold, learning_curve\n",
        "from sklearn.tree import DecisionTreeClassifier\n",
        "from imblearn.ensemble import RUSBoostClassifier\n",
        "from sklearn.metrics import accuracy_score, precision_score, recall_score, f1_score, confusion_matrix, roc_auc_score\n",
        "import numpy as np\n",
        "import matplotlib.pyplot as plt\n",
        "import pandas as pd\n",
        "\n",
        "# Assume data is already loaded and preprocessed\n",
        "data = combined_df_imputed  # Replace 'first_df_imputed' with your actual DataFrame name\n",
        "\n",
        "# Define the target based on 'PCT' values\n",
        "data['Label'] = np.where(data['PCT'] > 2, 1, 0)\n",
        "\n",
        "# Select features excluding 'PCT' and 'Label'\n",
        "features = data.columns.difference(['PCT', 'Label'])\n",
        "X = data[features]\n",
        "y = data['Label']\n",
        "\n",
        "# Setup cross-validation\n",
        "cv = StratifiedKFold(n_splits=5)\n",
        "\n",
        "# Instantiate the best model from grid search\n",
        "best_model = RUSBoostClassifier(\n",
        "    estimator=DecisionTreeClassifier(max_depth=5),\n",
        "    n_estimators=300,\n",
        "    learning_rate=0.01,\n",
        "    algorithm='SAMME.R',\n",
        "    random_state=1714400672\n",
        ")\n",
        "\n",
        "# Perform detailed evaluation on the best model\n",
        "scores = {\n",
        "    'auc_scores': [],\n",
        "    'accuracy_scores': [],\n",
        "    'precision_scores': [],\n",
        "    'recall_scores': [],\n",
        "    'f1_scores': [],\n",
        "    'confusion_matrices': []\n",
        "}\n",
        "\n",
        "for train_idx, test_idx in cv.split(X, y):\n",
        "    X_train, X_test = X.iloc[train_idx], X.iloc[test_idx]\n",
        "    y_train, y_test = y.iloc[train_idx], y.iloc[test_idx]\n",
        "\n",
        "    # Fit the model\n",
        "    best_model.fit(X_train, y_train)\n",
        "\n",
        "    # Predict outcomes\n",
        "    y_pred = best_model.predict(X_test)\n",
        "    y_pred_prob = best_model.predict_proba(X_test)[:, 1]\n",
        "\n",
        "    # Calculate metrics\n",
        "    scores['auc_scores'].append(roc_auc_score(y_test, y_pred_prob))\n",
        "    scores['accuracy_scores'].append(accuracy_score(y_test, y_pred))\n",
        "    scores['precision_scores'].append(precision_score(y_test, y_pred))\n",
        "    scores['recall_scores'].append(recall_score(y_test, y_pred))\n",
        "    scores['f1_scores'].append(f1_score(y_test, y_pred))\n",
        "    scores['confusion_matrices'].append(confusion_matrix(y_test, y_pred))\n",
        "\n",
        "# Display all results\n",
        "for metric, values in scores.items():\n",
        "    if metric == 'confusion_matrices':\n",
        "        print(metric, np.sum(values, axis=0))\n",
        "    else:\n",
        "        print(metric, values)\n",
        "        print(f\"Mean {metric}: {np.mean(values)}\")\n",
        "\n",
        "# Plot learning curves for the best model\n",
        "\n",
        "train_sizes, train_scores, test_scores = learning_curve(\n",
        "    best_model, X, y, cv=cv, scoring='roc_auc', n_jobs=-1,\n",
        "    train_sizes=np.linspace(0.1, 1.0, 10)\n",
        ")\n",
        "\n",
        "train_scores_mean = np.mean(train_scores, axis=1)\n",
        "train_scores_std = np.std(train_scores, axis=1)\n",
        "test_scores_mean = np.mean(test_scores, axis=1)\n",
        "test_scores_std = np.std(test_scores, axis=1)\n",
        "\n",
        "plt.figure()\n",
        "plt.title(\"Learning Curves (Best RUSBoost)\")\n",
        "plt.xlabel(\"Training examples\")\n",
        "plt.ylabel(\"ROC AUC Score\")\n",
        "plt.ylim((0.5, 1.01))\n",
        "plt.grid()\n",
        "\n",
        "plt.fill_between(train_sizes, train_scores_mean - train_scores_std,\n",
        "                 train_scores_mean + train_scores_std, alpha=0.1, color=\"r\")\n",
        "plt.fill_between(train_sizes, test_scores_mean - test_scores_std,\n",
        "                 test_scores_mean + test_scores_std, alpha=0.1, color=\"g\")\n",
        "plt.plot(train_sizes, train_scores_mean, 'o-', color=\"r\", label=\"Training score\")\n",
        "plt.plot(train_sizes, test_scores_mean, 'o-', color=\"g\", label=\"Cross-validation score\")\n",
        "\n",
        "plt.legend(loc=\"best\")\n",
        "plt.show()"
      ]
    }
  ],
  "metadata": {
    "colab": {
      "provenance": []
    },
    "kernelspec": {
      "display_name": "venv",
      "language": "python",
      "name": "python3"
    },
    "language_info": {
      "codemirror_mode": {
        "name": "ipython",
        "version": 3
      },
      "file_extension": ".py",
      "mimetype": "text/x-python",
      "name": "python",
      "nbconvert_exporter": "python",
      "pygments_lexer": "ipython3",
      "version": "3.12.6"
    }
  },
  "nbformat": 4,
  "nbformat_minor": 0
}
